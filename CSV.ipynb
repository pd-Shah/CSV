{
 "cells": [
  {
   "cell_type": "markdown",
   "metadata": {},
   "source": [
    "##  CSV files¶\n",
    "\n",
    "Let's import our datafile mpg.csv, which contains fuel economy data for 36615 cars.\n",
    "\n",
    "mpg : miles per gallon\n",
    "\n",
    "class : car classification\n",
    "\n",
    "cty : city mpg\n",
    "\n",
    "cyl : # of cylinders\n",
    "\n",
    "displ : engine displacement in liters\n",
    "\n",
    "drv : f = front-wheel drive, r = rear wheel drive, 4 = 4wd\n",
    "\n",
    "fl : fuel (e = ethanol E85, d = diesel, r = regular, p = premium, c = CNG)\n",
    "\n",
    "hwy : highway mpg\n",
    "\n",
    "manufacturer : automobile manufacturer\n",
    "\n",
    "model : model of car\n",
    "\n",
    "trans : type of transmission\n",
    "\n",
    "year : model year\n",
    "\n",
    "<br><br><br>\n",
    "\n",
    "# question:\n",
    "<br>\n",
    "### 1: How much is the average city fuel economy across all cars ?\n",
    "### 2: How much are cylinders of the cars in our dataset have?\n",
    "### 3: If we grouping the cars by number of cylinder, how many is the average cty mpg for each group?\n",
    "### 4: Which car model is the most fuel average usage\n",
    "\n",
    "\n",
    "<br><br><br><br><br>"
   ]
  },
  {
   "cell_type": "code",
   "execution_count": 2,
   "metadata": {
    "collapsed": false
   },
   "outputs": [
    {
     "data": {
      "text/plain": [
       "'19.3'"
      ]
     },
     "execution_count": 2,
     "metadata": {},
     "output_type": "execute_result"
    }
   ],
   "source": [
    "import csv\n",
    "with open('mpg.csv') as csvfile:\n",
    "    mpg = list(csv.DictReader(csvfile))\n",
    "mpg[0]['cty']"
   ]
  },
  {
   "cell_type": "code",
   "execution_count": 14,
   "metadata": {
    "collapsed": false
   },
   "outputs": [
    {
     "data": {
      "text/plain": [
       "{'G': 'FALSE',\n",
       " 'S': 'FALSE',\n",
       " 'T': 'FALSE',\n",
       " 'bidx': 'NA',\n",
       " 'class': '4',\n",
       " 'cty': '18.0656',\n",
       " 'cyl': '6',\n",
       " 'displ': 'NA',\n",
       " 'drv': 'NA',\n",
       " 'eng.dscr': 'NA',\n",
       " 'eng.dscr.1': 'NA',\n",
       " 'eng.dscr.2': 'NA',\n",
       " 'fl': 'Unleaded Gasoline',\n",
       " 'fourdoor.l': 'NA',\n",
       " 'fourdoor.p': 'NA',\n",
       " 'hatch.l': '11        ',\n",
       " 'hatch.p': '89',\n",
       " 'hwy': '23.4526',\n",
       " 'manufacturer': 'AMC',\n",
       " 'model': 'PACER',\n",
       " 'trans': 'NA',\n",
       " 'trans.dscr': 'A',\n",
       " 'twodoor.l': 'NA',\n",
       " 'twodoor.p': 'NA',\n",
       " 'vpc': 'NA',\n",
       " 'x5c': 'NA',\n",
       " 'year': '1978'}"
      ]
     },
     "execution_count": 14,
     "metadata": {},
     "output_type": "execute_result"
    }
   ],
   "source": [
    "mpg[20]"
   ]
  },
  {
   "cell_type": "code",
   "execution_count": 13,
   "metadata": {
    "collapsed": false
   },
   "outputs": [
    {
     "data": {
      "text/plain": [
       "'89'"
      ]
     },
     "execution_count": 13,
     "metadata": {},
     "output_type": "execute_result"
    }
   ],
   "source": [
    "mpg[0]['fourdoor.p']"
   ]
  },
  {
   "cell_type": "code",
   "execution_count": 24,
   "metadata": {
    "collapsed": false
   },
   "outputs": [
    {
     "data": {
      "text/plain": [
       "36615"
      ]
     },
     "execution_count": 24,
     "metadata": {},
     "output_type": "execute_result"
    }
   ],
   "source": [
    "len(mpg)"
   ]
  },
  {
   "cell_type": "code",
   "execution_count": 3,
   "metadata": {
    "collapsed": false
   },
   "outputs": [
    {
     "data": {
      "text/plain": [
       "dict_keys(['cyl', 'hatch.l', 'cty', 'G', 'manufacturer', 'displ', 'twodoor.l', 'x5c', 'year', 'fl', 'fourdoor.p', 'hwy', 'class', 'bidx', 'eng.dscr', 'eng.dscr.1', 'eng.dscr.2', 'trans', 'model', 'drv', 'hatch.p', 'fourdoor.l', 'trans.dscr', 'T', 'S', 'twodoor.p', 'vpc'])"
      ]
     },
     "execution_count": 3,
     "metadata": {},
     "output_type": "execute_result"
    }
   ],
   "source": [
    "mpg[0].keys()"
   ]
  },
  {
   "cell_type": "markdown",
   "metadata": {},
   "source": [
    "<br><br><br><br>\n",
    "## how much are the average city fuel economy across all cars?"
   ]
  },
  {
   "cell_type": "code",
   "execution_count": null,
   "metadata": {
    "collapsed": false
   },
   "outputs": [],
   "source": [
    "mpg[0]['cty']\n",
    "x=list()\n",
    "type(x)"
   ]
  },
  {
   "cell_type": "code",
   "execution_count": null,
   "metadata": {
    "collapsed": false
   },
   "outputs": [],
   "source": [
    "for obj in mpg:\n",
    "    x.append( obj['cty'] )\n",
    "    "
   ]
  },
  {
   "cell_type": "code",
   "execution_count": null,
   "metadata": {
    "collapsed": false
   },
   "outputs": [],
   "source": [
    "x[:5]"
   ]
  },
  {
   "cell_type": "code",
   "execution_count": null,
   "metadata": {
    "collapsed": false
   },
   "outputs": [],
   "source": [
    "type(x[0])"
   ]
  },
  {
   "cell_type": "code",
   "execution_count": null,
   "metadata": {
    "collapsed": false
   },
   "outputs": [],
   "source": [
    "sum(x) => Error\n",
    "sum(float(x)) => Error"
   ]
  },
  {
   "cell_type": "code",
   "execution_count": null,
   "metadata": {
    "collapsed": false
   },
   "outputs": [],
   "source": [
    "x=[]\n",
    "for obj in mpg:\n",
    "    x.append(float( obj['cty'] )) #clear data"
   ]
  },
  {
   "cell_type": "code",
   "execution_count": null,
   "metadata": {
    "collapsed": false
   },
   "outputs": [],
   "source": [
    "print(\"len(x)=\",len(x))\n",
    "x=[] # reset x\n",
    "print(\"x=\",x,\"len(x)=\",len(x))\n",
    "\n",
    "\n",
    "\n",
    "counter=0\n",
    "for obj in mpg:\n",
    "    try:\n",
    "        x.append(float( obj['cty'] ))\n",
    "    except:\n",
    "        counter+=1\n",
    "        print(\"obj['cty']=\", obj['cty'], \"\\t\", \"counter=\",counter)\n"
   ]
  },
  {
   "cell_type": "code",
   "execution_count": null,
   "metadata": {
    "collapsed": false
   },
   "outputs": [],
   "source": [
    "len(mpg) - len(x)\n"
   ]
  },
  {
   "cell_type": "code",
   "execution_count": null,
   "metadata": {
    "collapsed": false
   },
   "outputs": [],
   "source": [
    "sum(x)/len(x)"
   ]
  },
  {
   "cell_type": "markdown",
   "metadata": {},
   "source": [
    "<br><br><br><br>\n",
    "## how much cylinders the cars in our dataset have?"
   ]
  },
  {
   "cell_type": "code",
   "execution_count": null,
   "metadata": {
    "collapsed": false
   },
   "outputs": [],
   "source": [
    "mpg[0][\"cyl\"]"
   ]
  },
  {
   "cell_type": "code",
   "execution_count": null,
   "metadata": {
    "collapsed": false
   },
   "outputs": [],
   "source": [
    "for car in mpg:\n",
    "    print(car[\"cyl\"])"
   ]
  },
  {
   "cell_type": "code",
   "execution_count": null,
   "metadata": {
    "collapsed": true
   },
   "outputs": [],
   "source": [
    "x=list()\n",
    "for car in mpg:\n",
    "    x.append(car[\"cyl\"])"
   ]
  },
  {
   "cell_type": "code",
   "execution_count": null,
   "metadata": {
    "collapsed": false
   },
   "outputs": [],
   "source": [
    "len(x)"
   ]
  },
  {
   "cell_type": "code",
   "execution_count": null,
   "metadata": {
    "collapsed": false
   },
   "outputs": [],
   "source": [
    "x=set()\n",
    "for car in mpg:\n",
    "    x.add(car[\"cyl\"])\n",
    "len(x)\n"
   ]
  },
  {
   "cell_type": "code",
   "execution_count": null,
   "metadata": {
    "collapsed": false
   },
   "outputs": [],
   "source": [
    "# itemes are str conver to int. why:\n",
    "\n",
    "print(\"x= \", x)\n",
    "print(\"type(x)= \", type(x))\n",
    "print(\"max(x)= \", max(x))\n",
    "print(\"min(x)= \", min(x))\n",
    "\n"
   ]
  },
  {
   "cell_type": "code",
   "execution_count": null,
   "metadata": {
    "collapsed": false
   },
   "outputs": [],
   "source": [
    "x=set()\n",
    "for car in mpg:\n",
    "    x.add(int(car[\"cyl\"]))\n",
    "len(x)"
   ]
  },
  {
   "cell_type": "code",
   "execution_count": null,
   "metadata": {
    "collapsed": false
   },
   "outputs": [],
   "source": [
    "print(\"type(x)= \", type(x))\n",
    "print(\"max(x)= \", max(x))\n",
    "print(\"min(x)= \", min(x))\n"
   ]
  },
  {
   "cell_type": "markdown",
   "metadata": {},
   "source": [
    "<br><br><br><br>\n",
    "## if we grouping the cars by number of cylinder, how much are the average cty mpg for each group?"
   ]
  },
  {
   "cell_type": "code",
   "execution_count": 15,
   "metadata": {
    "collapsed": false
   },
   "outputs": [
    {
     "name": "stdout",
     "output_type": "stream",
     "text": [
      "0\n",
      "1\n",
      "{1: 0, 2: 1, 3: 0}\n"
     ]
    }
   ],
   "source": [
    "x=[1,2,3]\n",
    "y={1:0,2:0,3:0}\n",
    "print(y[2])\n",
    "y[2]+=1\n",
    "print(y[2])\n",
    "print(y)"
   ]
  },
  {
   "cell_type": "code",
   "execution_count": 16,
   "metadata": {
    "collapsed": false
   },
   "outputs": [
    {
     "name": "stdout",
     "output_type": "stream",
     "text": [
      "{1: 1, 2: 2, 3: 1}\n"
     ]
    }
   ],
   "source": [
    "for i in x:\n",
    "    y[i]+=1\n",
    "\n",
    "print(y)"
   ]
  },
  {
   "cell_type": "code",
   "execution_count": 17,
   "metadata": {
    "collapsed": false
   },
   "outputs": [
    {
     "name": "stdout",
     "output_type": "stream",
     "text": [
      "{1, 2, 3}\n"
     ]
    }
   ],
   "source": [
    "# dynamic dic\n",
    "x=[1,2,3,1,1,1,2,2,3,3,2]\n",
    "x=set(x)\n",
    "print(x)\n"
   ]
  },
  {
   "cell_type": "code",
   "execution_count": 18,
   "metadata": {
    "collapsed": false
   },
   "outputs": [
    {
     "name": "stdout",
     "output_type": "stream",
     "text": [
      "{1: 0, 2: 0, 3: 0}\n"
     ]
    }
   ],
   "source": [
    "#make dynamic dict\n",
    "y=dict()\n",
    "for number in x:\n",
    "    y.update({number:0})\n",
    "print(y)"
   ]
  },
  {
   "cell_type": "code",
   "execution_count": 19,
   "metadata": {
    "collapsed": false
   },
   "outputs": [
    {
     "name": "stdout",
     "output_type": "stream",
     "text": [
      "{1: 4, 2: 1, 3: 7}\n"
     ]
    }
   ],
   "source": [
    "\n",
    "x=[1,3,2,3,1,3,1,3,1,3,3,3]\n",
    "for i in x:\n",
    "    y[i]+=1\n",
    "print(y)\n"
   ]
  },
  {
   "cell_type": "code",
   "execution_count": null,
   "metadata": {
    "collapsed": false
   },
   "outputs": [],
   "source": [
    "y.update({3:y[3]+10})\n",
    "print(y)"
   ]
  },
  {
   "cell_type": "code",
   "execution_count": 20,
   "metadata": {
    "collapsed": false
   },
   "outputs": [
    {
     "data": {
      "text/plain": [
       "{2, 3, 4, 5, 6, 8, 10, 12, 16}"
      ]
     },
     "execution_count": 20,
     "metadata": {},
     "output_type": "execute_result"
    }
   ],
   "source": [
    "cylinders=set()\n",
    "for car in mpg:\n",
    "    cylinders.add(int(car[\"cyl\"]))\n",
    "    \n",
    "cylinders"
   ]
  },
  {
   "cell_type": "code",
   "execution_count": null,
   "metadata": {
    "collapsed": false
   },
   "outputs": [],
   "source": [
    "cylinders_dict=dict()\n",
    "for number in cylinders:\n",
    "    cylinders_dict.update({number:0})\n",
    "\n",
    "cylinders_dict"
   ]
  },
  {
   "cell_type": "code",
   "execution_count": null,
   "metadata": {
    "collapsed": false
   },
   "outputs": [],
   "source": [
    "#for car in mpg:\n",
    "#    print(car['cty'])\n",
    "\n",
    "#for car in mpg:\n",
    "#    print(car[\"cyl\"])\n",
    "\n",
    "\n",
    "#x=mpg[0][\"cyl\"]\n",
    "#type(x)\n",
    "\n",
    "#cylinders_dict[int(x)]\n",
    "\n",
    "#for obj in mpg:\n",
    "#    print(cylinders_dict[int(obj[\"cyl\"])])\n",
    "\n",
    "\n",
    "\n",
    "for obj in mpg:\n",
    "    try:\n",
    "        cylinders_dict.update({ int(obj[\"cyl\"]) :cylinders_dict[int( obj[\"cyl\"] )]+ int(obj['cty']) })\n",
    "    except:\n",
    "        pass\n",
    "\n",
    "cylinders_dict"
   ]
  },
  {
   "cell_type": "code",
   "execution_count": null,
   "metadata": {
    "collapsed": false
   },
   "outputs": [],
   "source": [
    "#check it\n",
    "plus=0\n",
    "for car in mpg:\n",
    "    if car[\"cyl\"]=='16':\n",
    "        print(car['model'])\n",
    "        plus+= int(car['cty'])\n",
    "print(plus)"
   ]
  },
  {
   "cell_type": "code",
   "execution_count": null,
   "metadata": {
    "collapsed": false
   },
   "outputs": [],
   "source": [
    "#make  cylinders_dict\n",
    "cylinders_dict=dict()\n",
    "for number in cylinders:\n",
    "    cylinders_dict.update({number:[0,0]})\n",
    "cylinders_dict\n"
   ]
  },
  {
   "cell_type": "code",
   "execution_count": null,
   "metadata": {
    "collapsed": false
   },
   "outputs": [],
   "source": [
    "#cylinders_dict[2]\n",
    "#cylinders_dict[2][0]\n",
    "#cylinders_dict[2][0]\n",
    "#type(cylinders_dict)\n",
    "#type(cylinders_dict[2])"
   ]
  },
  {
   "cell_type": "code",
   "execution_count": null,
   "metadata": {
    "collapsed": false
   },
   "outputs": [],
   "source": [
    "cylinders_dict[2][1]+=1\n",
    "cylinders_dict\n"
   ]
  },
  {
   "cell_type": "code",
   "execution_count": null,
   "metadata": {
    "collapsed": false
   },
   "outputs": [],
   "source": [
    "cylinders_dict[2][1]+=cylinders_dict[2][1]\n",
    "cylinders_dict"
   ]
  },
  {
   "cell_type": "code",
   "execution_count": null,
   "metadata": {
    "collapsed": false
   },
   "outputs": [],
   "source": [
    "for obj in mpg:\n",
    "    try:\n",
    "        cylinders_dict[int(obj[\"cyl\"])]\n",
    "    except:\n",
    "        pass"
   ]
  },
  {
   "cell_type": "code",
   "execution_count": null,
   "metadata": {
    "collapsed": false
   },
   "outputs": [],
   "source": [
    "\n",
    "for obj in mpg:\n",
    "    try:\n",
    "        cylinders_dict[int(obj[\"cyl\"])][0] += float(obj[\"cty\"])\n",
    "        cylinders_dict[int(obj[\"cyl\"])][1] += 1\n",
    "    except:\n",
    "        pass\n",
    "    \n",
    "cylinders_dict"
   ]
  },
  {
   "cell_type": "code",
   "execution_count": null,
   "metadata": {
    "collapsed": false
   },
   "outputs": [],
   "source": [
    "for key,value in cylinders_dict.items():\n",
    "    print(\"for cylinders={} , sum of cty={} and number of cars={} \".format(key, *value))"
   ]
  },
  {
   "cell_type": "code",
   "execution_count": null,
   "metadata": {
    "collapsed": false
   },
   "outputs": [],
   "source": [
    "l=list()\n",
    "for item in cylinders_dict.values():\n",
    "    sum_of_cty, number_of_cars = item[0],item[1]\n",
    "    l.append(sum_of_cty/number_of_cars)\n",
    "l"
   ]
  },
  {
   "cell_type": "code",
   "execution_count": null,
   "metadata": {
    "collapsed": false
   },
   "outputs": [],
   "source": [
    "print(\"max= \", max(l), \"min= \",min(l))"
   ]
  },
  {
   "cell_type": "code",
   "execution_count": null,
   "metadata": {
    "collapsed": false
   },
   "outputs": [],
   "source": [
    "x=set()\n",
    "for car in mpg:\n",
    "    if car[\"cyl\"]=='16' or car[\"cyl\"]=='3':\n",
    "        x.add((car[\"model\"],car[\"cyl\"]))\n",
    "x"
   ]
  },
  {
   "cell_type": "markdown",
   "metadata": {
    "collapsed": true
   },
   "source": [
    "# clustering"
   ]
  },
  {
   "cell_type": "code",
   "execution_count": 59,
   "metadata": {
    "collapsed": true
   },
   "outputs": [],
   "source": [
    "cars=list()\n",
    "for car in mpg:\n",
    "    try:\n",
    "        cars.append([\n",
    "                float(car[\"class\"]),\n",
    "                float(car[\"cty\"]),\n",
    "                float(car[\"cyl\"]),\n",
    "                float(car[\"fourdoor.l\"]),\n",
    "                float(car[\"fourdoor.p\"]),\n",
    "                float(car[\"hwy\"]),\n",
    "                float(car[\"twodoor.l\"]),\n",
    "                float(car[\"twodoor.p\"]),\n",
    "                float(car[\"year\"]),\n",
    "                float(car[\"hatch.l\"]),\n",
    "                float(car[\"hatch.p\"])\n",
    "            ])\n",
    "    except:\n",
    "        pass\n"
   ]
  },
  {
   "cell_type": "code",
   "execution_count": 63,
   "metadata": {
    "collapsed": false
   },
   "outputs": [
    {
     "data": {
      "text/plain": [
       "[4.0, 16.5, 6.0, 11.0, 90.0, 19.7, 11.0, 90.0, 1978.0, 16.0, 83.0]"
      ]
     },
     "execution_count": 63,
     "metadata": {},
     "output_type": "execute_result"
    }
   ],
   "source": [
    "cars[0]"
   ]
  },
  {
   "cell_type": "code",
   "execution_count": 60,
   "metadata": {
    "collapsed": false
   },
   "outputs": [
    {
     "data": {
      "text/plain": [
       "[[4.0, 16.5, 6.0, 11.0, 90.0, 19.7, 11.0, 90.0, 1978.0, 16.0, 83.0],\n",
       " [4.0, 14.7, 6.0, 11.0, 90.0, 21.0, 11.0, 90.0, 1978.0, 16.0, 83.0],\n",
       " [4.0, 12.7, 6.0, 11.0, 90.0, 16.8, 11.0, 90.0, 1978.0, 16.0, 83.0],\n",
       " [4.0, 13.4, 6.0, 11.0, 90.0, 21.1, 11.0, 90.0, 1978.0, 16.0, 83.0],\n",
       " [4.0, 15.5211, 6.0, 11.0, 90.0, 21.3995, 11.0, 90.0, 1978.0, 16.0, 83.0],\n",
       " [4.0, 16.5, 6.0, 11.0, 90.0, 24.8, 11.0, 90.0, 1978.0, 16.0, 83.0],\n",
       " [4.0, 13.6, 8.0, 11.0, 90.0, 18.9, 11.0, 90.0, 1978.0, 16.0, 83.0],\n",
       " [4.0, 19.4237, 6.0, 11.0, 90.0, 25.9397, 11.0, 90.0, 1978.0, 16.0, 83.0],\n",
       " [4.0, 18.0656, 6.0, 11.0, 90.0, 23.4526, 11.0, 90.0, 1978.0, 16.0, 83.0],\n",
       " [4.0, 18.7, 4.0, 11.0, 90.0, 26.9, 11.0, 90.0, 1978.0, 16.0, 83.0],\n",
       " [4.0, 21.1, 4.0, 11.0, 90.0, 33.1, 11.0, 90.0, 1978.0, 16.0, 83.0],\n",
       " [4.0, 20.4, 4.0, 11.0, 90.0, 28.9, 11.0, 90.0, 1978.0, 16.0, 83.0],\n",
       " [4.0, 12.7514, 8.0, 13.0, 96.0, 17.7838, 14.0, 90.0, 1978.0, 16.0, 90.0],\n",
       " [4.0, 15.4315, 6.0, 13.0, 96.0, 21.5646, 14.0, 90.0, 1978.0, 16.0, 90.0],\n",
       " [4.0, 15.7469, 6.0, 13.0, 96.0, 26.0809, 14.0, 90.0, 1978.0, 16.0, 90.0],\n",
       " [4.0, 17.7465, 6.0, 13.0, 96.0, 25.8426, 14.0, 90.0, 1978.0, 16.0, 90.0],\n",
       " [4.0, 16.2291, 8.0, 13.0, 96.0, 22.4158, 14.0, 90.0, 1978.0, 16.0, 90.0],\n",
       " [4.0, 16.2291, 8.0, 13.0, 96.0, 22.4158, 13.0, 90.0, 1978.0, 16.0, 90.0],\n",
       " [4.0, 15.1873, 6.0, 13.0, 96.0, 20.4438, 13.0, 90.0, 1978.0, 16.0, 90.0],\n",
       " [4.0, 13.1988, 8.0, 13.0, 96.0, 18.8956, 13.0, 90.0, 1978.0, 16.0, 90.0],\n",
       " [4.0, 14.6, 8.0, 13.0, 96.0, 21.0, 13.0, 90.0, 1978.0, 16.0, 90.0],\n",
       " [4.0, 14.6347, 8.0, 13.0, 96.0, 20.7976, 13.0, 90.0, 1978.0, 16.0, 90.0],\n",
       " [4.0, 12.7514, 8.0, 13.0, 96.0, 17.7838, 13.0, 90.0, 1978.0, 16.0, 90.0],\n",
       " [4.0, 17.5972, 6.0, 13.0, 96.0, 24.4675, 13.0, 90.0, 1978.0, 16.0, 90.0],\n",
       " [4.0, 18.8306, 6.0, 13.0, 96.0, 25.9044, 13.0, 90.0, 1978.0, 16.0, 90.0],\n",
       " [2.0, 35.6, 4.0, 7.0, 68.0, 48.1, 7.0, 68.0, 1978.0, 14.0, 63.0],\n",
       " [2.0, 23.7, 4.0, 7.0, 68.0, 28.4478, 7.0, 68.0, 1978.0, 14.0, 63.0],\n",
       " [2.0, 28.0371, 4.0, 7.0, 68.0, 40.4866, 7.0, 68.0, 1978.0, 14.0, 63.0],\n",
       " [2.0, 28.5481, 4.0, 7.0, 68.0, 40.4483, 7.0, 68.0, 1978.0, 14.0, 63.0],\n",
       " [2.0, 23.8415, 4.0, 7.0, 68.0, 29.5537, 7.0, 68.0, 1978.0, 14.0, 63.0],\n",
       " [3.0, 24.9, 4.0, 8.0, 79.0, 29.3, 8.0, 79.0, 1978.0, 13.0, 73.0],\n",
       " [3.0, 24.4733, 4.0, 8.0, 79.0, 32.3596, 8.0, 79.0, 1978.0, 13.0, 73.0],\n",
       " [3.0, 25.3, 4.0, 8.0, 79.0, 35.1, 8.0, 79.0, 1978.0, 13.0, 73.0],\n",
       " [3.0, 23.2519, 4.0, 8.0, 79.0, 27.7906, 8.0, 79.0, 1978.0, 13.0, 73.0],\n",
       " [2.0, 20.74, 4.0, 9.0, 76.0, 30.6767, 9.0, 75.0, 1978.0, 13.0, 72.0],\n",
       " [2.0, 19.6067, 4.0, 9.0, 76.0, 30.7414, 9.0, 75.0, 1978.0, 13.0, 72.0],\n",
       " [3.0, 16.8486, 4.0, 12.0, 85.0, 24.6256, 9.0, 71.0, 1978.0, 16.0, 78.0],\n",
       " [3.0, 15.8897, 4.0, 12.0, 85.0, 22.5517, 9.0, 71.0, 1978.0, 16.0, 78.0],\n",
       " [3.0, 16.9, 4.0, 12.0, 85.0, 19.6, 9.0, 71.0, 1978.0, 16.0, 78.0],\n",
       " [3.0, 16.9, 4.0, 12.0, 85.0, 19.6, 9.0, 71.0, 1978.0, 16.0, 78.0],\n",
       " [4.0, 16.2291, 8.0, 14.0, 96.0, 22.4158, 14.0, 90.0, 1978.0, 16.0, 90.0],\n",
       " [4.0, 15.5755, 6.0, 14.0, 96.0, 27.6495, 14.0, 90.0, 1978.0, 16.0, 90.0],\n",
       " [4.0, 18.1611, 6.0, 14.0, 96.0, 26.4254, 14.0, 90.0, 1978.0, 16.0, 90.0],\n",
       " [4.0, 12.7514, 8.0, 14.0, 96.0, 17.7838, 14.0, 90.0, 1978.0, 16.0, 90.0],\n",
       " [4.0, 14.6, 8.0, 14.0, 96.0, 21.0, 14.0, 90.0, 1978.0, 16.0, 90.0],\n",
       " [4.0, 15.1967, 6.0, 14.0, 96.0, 21.0501, 14.0, 90.0, 1978.0, 16.0, 90.0],\n",
       " [4.0, 14.6, 8.0, 13.0, 96.0, 21.0, 14.0, 90.0, 1978.0, 16.0, 90.0],\n",
       " [4.0, 15.0459, 6.0, 13.0, 96.0, 20.7243, 14.0, 90.0, 1978.0, 16.0, 90.0],\n",
       " [4.0, 12.7514, 8.0, 13.0, 96.0, 17.7838, 14.0, 90.0, 1978.0, 16.0, 90.0],\n",
       " [4.0, 13.1988, 8.0, 13.0, 96.0, 18.8956, 14.0, 90.0, 1978.0, 16.0, 90.0],\n",
       " [4.0, 16.2291, 8.0, 13.0, 96.0, 22.4158, 14.0, 90.0, 1978.0, 16.0, 90.0],\n",
       " [4.0, 20.8349, 4.0, 13.0, 96.0, 27.0263, 14.0, 90.0, 1978.0, 16.0, 90.0],\n",
       " [4.0, 15.5505, 6.0, 13.0, 96.0, 27.8972, 14.0, 90.0, 1978.0, 16.0, 90.0],\n",
       " [4.0, 17.506, 6.0, 13.0, 96.0, 25.5042, 14.0, 90.0, 1978.0, 16.0, 90.0],\n",
       " [3.0, 34.4897, 4.0, 9.0, 78.0, 45.9108, 9.0, 75.0, 1978.0, 12.0, 75.0],\n",
       " [3.0, 24.3922, 4.0, 9.0, 78.0, 33.8432, 9.0, 75.0, 1978.0, 12.0, 75.0],\n",
       " [3.0, 23.2092, 4.0, 9.0, 78.0, 29.1788, 9.0, 75.0, 1978.0, 12.0, 75.0],\n",
       " [3.0, 25.6764, 4.0, 9.0, 78.0, 31.881, 9.0, 75.0, 1978.0, 12.0, 75.0],\n",
       " [3.0, 28.0887, 4.0, 9.0, 78.0, 37.6508, 9.0, 75.0, 1978.0, 12.0, 75.0],\n",
       " [3.0, 30.0, 4.0, 11.0, 84.0, 39.0, 11.0, 84.0, 1984.0, 16.0, 82.0],\n",
       " [3.0, 35.0, 4.0, 11.0, 84.0, 49.0, 11.0, 84.0, 1984.0, 16.0, 82.0],\n",
       " [3.0, 38.0, 4.0, 11.0, 84.0, 44.0, 11.0, 84.0, 1984.0, 16.0, 82.0],\n",
       " [3.0, 50.0, 4.0, 11.0, 84.0, 66.0, 11.0, 84.0, 1984.0, 16.0, 82.0],\n",
       " [3.0, 43.0, 4.0, 11.0, 84.0, 59.0, 11.0, 84.0, 1984.0, 16.0, 82.0],\n",
       " [3.0, 34.0, 4.0, 12.0, 78.0, 46.0, 12.0, 77.0, 1984.0, 12.0, 78.0],\n",
       " [3.0, 32.0, 4.0, 12.0, 78.0, 46.0, 12.0, 77.0, 1984.0, 12.0, 78.0],\n",
       " [3.0, 27.0, 4.0, 12.0, 78.0, 35.0, 12.0, 77.0, 1984.0, 12.0, 78.0],\n",
       " [3.0, 30.0, 4.0, 12.0, 78.0, 43.0, 12.0, 77.0, 1984.0, 12.0, 78.0],\n",
       " [3.0, 27.0, 4.0, 12.0, 78.0, 35.0, 12.0, 77.0, 1984.0, 12.0, 78.0],\n",
       " [3.0, 30.0, 4.0, 12.0, 78.0, 43.0, 12.0, 77.0, 1984.0, 12.0, 78.0],\n",
       " [4.0, 28.0, 4.0, 14.0, 91.0, 40.0, 13.0, 84.0, 1984.0, 16.0, 84.0],\n",
       " [4.0, 28.0, 4.0, 14.0, 91.0, 41.0, 13.0, 84.0, 1984.0, 16.0, 84.0],\n",
       " [4.0, 30.0, 4.0, 14.0, 91.0, 47.0, 13.0, 84.0, 1984.0, 16.0, 84.0],\n",
       " [4.0, 27.0, 4.0, 14.0, 91.0, 43.0, 13.0, 84.0, 1984.0, 16.0, 84.0],\n",
       " [4.0, 27.0, 4.0, 14.0, 93.0, 36.0, 13.0, 87.0, 1984.0, 21.0, 87.0],\n",
       " [4.0, 29.0, 4.0, 14.0, 93.0, 41.0, 13.0, 87.0, 1984.0, 21.0, 87.0],\n",
       " [4.0, 40.0, 4.0, 14.0, 93.0, 54.0, 13.0, 87.0, 1984.0, 21.0, 87.0],\n",
       " [4.0, 27.0, 4.0, 13.0, 91.0, 40.0, 13.0, 84.0, 1984.0, 16.0, 84.0],\n",
       " [4.0, 23.0, 4.0, 13.0, 91.0, 33.0, 13.0, 84.0, 1984.0, 16.0, 84.0],\n",
       " [4.0, 24.0, 4.0, 13.0, 91.0, 36.0, 13.0, 84.0, 1984.0, 16.0, 84.0],\n",
       " [4.0, 29.0, 4.0, 13.0, 91.0, 46.0, 13.0, 84.0, 1984.0, 16.0, 84.0],\n",
       " [4.0, 32.0, 4.0, 13.0, 91.0, 53.0, 13.0, 84.0, 1984.0, 16.0, 84.0],\n",
       " [4.0, 28.0, 4.0, 13.0, 91.0, 41.0, 13.0, 84.0, 1984.0, 16.0, 84.0],\n",
       " [4.0, 28.0, 4.0, 13.0, 89.0, 37.0, 13.0, 88.0, 1984.0, 16.0, 88.0],\n",
       " [4.0, 38.0, 4.0, 13.0, 89.0, 52.0, 13.0, 88.0, 1984.0, 16.0, 88.0],\n",
       " [4.0, 34.0, 4.0, 13.0, 89.0, 48.0, 13.0, 88.0, 1984.0, 16.0, 88.0],\n",
       " [3.0, 29.0, 4.0, 11.0, 84.0, 39.0, 11.0, 84.0, 1984.0, 16.0, 82.0],\n",
       " [3.0, 35.0, 4.0, 11.0, 84.0, 49.0, 11.0, 84.0, 1984.0, 16.0, 82.0],\n",
       " [3.0, 51.0, 4.0, 11.0, 84.0, 63.0, 11.0, 84.0, 1984.0, 16.0, 82.0],\n",
       " [3.0, 44.0, 4.0, 11.0, 84.0, 60.0, 11.0, 84.0, 1984.0, 16.0, 82.0],\n",
       " [3.0, 34.0, 4.0, 12.0, 78.0, 46.0, 12.0, 77.0, 1984.0, 12.0, 78.0],\n",
       " [3.0, 32.0, 4.0, 12.0, 78.0, 46.0, 12.0, 77.0, 1984.0, 12.0, 78.0],\n",
       " [3.0, 27.0, 4.0, 12.0, 78.0, 35.0, 12.0, 77.0, 1984.0, 12.0, 78.0],\n",
       " [3.0, 30.0, 4.0, 12.0, 78.0, 43.0, 12.0, 77.0, 1984.0, 12.0, 78.0],\n",
       " [4.0, 24.0, 4.0, 14.0, 91.0, 37.0, 13.0, 84.0, 1984.0, 16.0, 84.0],\n",
       " [4.0, 27.0, 4.0, 14.0, 91.0, 42.0, 13.0, 84.0, 1984.0, 16.0, 84.0],\n",
       " [4.0, 27.0, 4.0, 14.0, 91.0, 43.0, 13.0, 84.0, 1984.0, 16.0, 84.0],\n",
       " [4.0, 27.0, 4.0, 14.0, 93.0, 36.0, 13.0, 87.0, 1984.0, 21.0, 87.0],\n",
       " [4.0, 29.0, 4.0, 14.0, 93.0, 41.0, 13.0, 87.0, 1984.0, 21.0, 87.0],\n",
       " [4.0, 40.0, 4.0, 14.0, 93.0, 54.0, 13.0, 87.0, 1984.0, 21.0, 87.0],\n",
       " [4.0, 27.0, 4.0, 13.0, 91.0, 40.0, 13.0, 84.0, 1984.0, 16.0, 84.0],\n",
       " [4.0, 22.0, 4.0, 13.0, 91.0, 32.0, 13.0, 84.0, 1984.0, 16.0, 84.0],\n",
       " [4.0, 25.0, 4.0, 13.0, 91.0, 36.0, 13.0, 84.0, 1984.0, 16.0, 84.0],\n",
       " [4.0, 29.0, 4.0, 13.0, 91.0, 45.0, 13.0, 84.0, 1984.0, 16.0, 84.0],\n",
       " [4.0, 27.0, 4.0, 13.0, 91.0, 42.0, 13.0, 84.0, 1984.0, 16.0, 84.0],\n",
       " [4.0, 28.0, 4.0, 13.0, 89.0, 36.0, 13.0, 88.0, 1984.0, 16.0, 88.0],\n",
       " [4.0, 28.0, 4.0, 13.0, 89.0, 37.0, 13.0, 88.0, 1984.0, 16.0, 88.0],\n",
       " [4.0, 38.0, 4.0, 13.0, 89.0, 52.0, 13.0, 88.0, 1984.0, 16.0, 88.0],\n",
       " [4.0, 36.0, 4.0, 13.0, 89.0, 48.0, 13.0, 88.0, 1984.0, 16.0, 88.0],\n",
       " [4.0, 34.0, 4.0, 13.0, 89.0, 48.0, 13.0, 88.0, 1984.0, 16.0, 88.0],\n",
       " [4.0, 35.0, 4.0, 13.0, 89.0, 48.0, 13.0, 88.0, 1984.0, 16.0, 88.0]]"
      ]
     },
     "execution_count": 60,
     "metadata": {},
     "output_type": "execute_result"
    }
   ],
   "source": [
    "cars"
   ]
  },
  {
   "cell_type": "code",
   "execution_count": 68,
   "metadata": {
    "collapsed": true
   },
   "outputs": [],
   "source": [
    "from sklearn.cluster import KMeans\n",
    "from sklearn.metrics import silhouette_score\n",
    "import numpy"
   ]
  },
  {
   "cell_type": "code",
   "execution_count": 74,
   "metadata": {
    "collapsed": true
   },
   "outputs": [],
   "source": [
    "input_matrix=numpy.array(cars)\n",
    "distance_matrix=numpy.array([])\n",
    "Euclidean_distance_matrix=numpy.array([])\n"
   ]
  },
  {
   "cell_type": "code",
   "execution_count": 75,
   "metadata": {
    "collapsed": false
   },
   "outputs": [
    {
     "data": {
      "text/plain": [
       "array([[    4. ,    16.5,     6. , ...,  1978. ,    16. ,    83. ],\n",
       "       [    4. ,    14.7,     6. , ...,  1978. ,    16. ,    83. ],\n",
       "       [    4. ,    12.7,     6. , ...,  1978. ,    16. ,    83. ],\n",
       "       ..., \n",
       "       [    4. ,    36. ,     4. , ...,  1984. ,    16. ,    88. ],\n",
       "       [    4. ,    34. ,     4. , ...,  1984. ,    16. ,    88. ],\n",
       "       [    4. ,    35. ,     4. , ...,  1984. ,    16. ,    88. ]])"
      ]
     },
     "execution_count": 75,
     "metadata": {},
     "output_type": "execute_result"
    }
   ],
   "source": [
    "input_matrix"
   ]
  },
  {
   "cell_type": "code",
   "execution_count": 76,
   "metadata": {
    "collapsed": false
   },
   "outputs": [],
   "source": [
    "for i in input_matrix:\n",
    "    #print(\"calculate distance form\", i,\" to others:\")\n",
    "    for j in input_matrix:\n",
    "        #print(\"to\", j,\"=\",abs(i-j))\n",
    "        distance_matrix=numpy.append(distance_matrix,abs(i-j))"
   ]
  },
  {
   "cell_type": "code",
   "execution_count": 83,
   "metadata": {
    "collapsed": false
   },
   "outputs": [
    {
     "name": "stdout",
     "output_type": "stream",
     "text": [
      "distance_matrix=\n",
      "[[[  0.    0.    0.  ...,   0.    0.    0. ]\n",
      "  [  0.    1.8   0.  ...,   0.    0.    0. ]\n",
      "  [  0.    3.8   0.  ...,   0.    0.    0. ]\n",
      "  ..., \n",
      "  [  0.   19.5   2.  ...,   6.    0.    5. ]\n",
      "  [  0.   17.5   2.  ...,   6.    0.    5. ]\n",
      "  [  0.   18.5   2.  ...,   6.    0.    5. ]]\n",
      "\n",
      " [[  0.    1.8   0.  ...,   0.    0.    0. ]\n",
      "  [  0.    0.    0.  ...,   0.    0.    0. ]\n",
      "  [  0.    2.    0.  ...,   0.    0.    0. ]\n",
      "  ..., \n",
      "  [  0.   21.3   2.  ...,   6.    0.    5. ]\n",
      "  [  0.   19.3   2.  ...,   6.    0.    5. ]\n",
      "  [  0.   20.3   2.  ...,   6.    0.    5. ]]\n",
      "\n",
      " [[  0.    3.8   0.  ...,   0.    0.    0. ]\n",
      "  [  0.    2.    0.  ...,   0.    0.    0. ]\n",
      "  [  0.    0.    0.  ...,   0.    0.    0. ]\n",
      "  ..., \n",
      "  [  0.   23.3   2.  ...,   6.    0.    5. ]\n",
      "  [  0.   21.3   2.  ...,   6.    0.    5. ]\n",
      "  [  0.   22.3   2.  ...,   6.    0.    5. ]]\n",
      "\n",
      " ..., \n",
      " [[  0.   19.5   2.  ...,   6.    0.    5. ]\n",
      "  [  0.   21.3   2.  ...,   6.    0.    5. ]\n",
      "  [  0.   23.3   2.  ...,   6.    0.    5. ]\n",
      "  ..., \n",
      "  [  0.    0.    0.  ...,   0.    0.    0. ]\n",
      "  [  0.    2.    0.  ...,   0.    0.    0. ]\n",
      "  [  0.    1.    0.  ...,   0.    0.    0. ]]\n",
      "\n",
      " [[  0.   17.5   2.  ...,   6.    0.    5. ]\n",
      "  [  0.   19.3   2.  ...,   6.    0.    5. ]\n",
      "  [  0.   21.3   2.  ...,   6.    0.    5. ]\n",
      "  ..., \n",
      "  [  0.    2.    0.  ...,   0.    0.    0. ]\n",
      "  [  0.    0.    0.  ...,   0.    0.    0. ]\n",
      "  [  0.    1.    0.  ...,   0.    0.    0. ]]\n",
      "\n",
      " [[  0.   18.5   2.  ...,   6.    0.    5. ]\n",
      "  [  0.   20.3   2.  ...,   6.    0.    5. ]\n",
      "  [  0.   22.3   2.  ...,   6.    0.    5. ]\n",
      "  ..., \n",
      "  [  0.    1.    0.  ...,   0.    0.    0. ]\n",
      "  [  0.    1.    0.  ...,   0.    0.    0. ]\n",
      "  [  0.    0.    0.  ...,   0.    0.    0. ]]]\n"
     ]
    }
   ],
   "source": [
    "\n",
    "distance_matrix=distance_matrix.reshape(len(input_matrix),len(input_matrix),\n",
    "                                        len(input_matrix[0]))\n",
    "print(\"distance_matrix=\")\n",
    "print(distance_matrix)"
   ]
  },
  {
   "cell_type": "code",
   "execution_count": 88,
   "metadata": {
    "collapsed": false
   },
   "outputs": [
    {
     "data": {
      "text/plain": [
       "111"
      ]
     },
     "execution_count": 88,
     "metadata": {},
     "output_type": "execute_result"
    }
   ],
   "source": [
    "len(distance_matrix[0][0])\n",
    "len(distance_matrix[0])\n",
    "len(distance_matrix)"
   ]
  },
  {
   "cell_type": "code",
   "execution_count": 89,
   "metadata": {
    "collapsed": false
   },
   "outputs": [
    {
     "name": "stdout",
     "output_type": "stream",
     "text": [
      "Euclidean_distance_matrix\n",
      "[[  0.    3.1   6.7 ...,  67.8  65.8  66.8]\n",
      " [  3.1   0.    6.2 ...,  68.3  66.3  67.3]\n",
      " [  6.7   6.2   0.  ...,  74.5  72.5  73.5]\n",
      " ..., \n",
      " [ 67.8  68.3  74.5 ...,   0.    2.    1. ]\n",
      " [ 65.8  66.3  72.5 ...,   2.    0.    1. ]\n",
      " [ 66.8  67.3  73.5 ...,   1.    1.    0. ]]\n"
     ]
    }
   ],
   "source": [
    "for i in range(len(input_matrix)):\n",
    "    for j in range(len(input_matrix)):\n",
    "        Euclidean_distance_matrix=numpy.append(Euclidean_distance_matrix,distance_matrix[i][j].sum())\t\t\n",
    "\n",
    "Euclidean_distance_matrix=Euclidean_distance_matrix.reshape(len(input_matrix),len(input_matrix))\n",
    "print(\"Euclidean_distance_matrix\")\n",
    "print(Euclidean_distance_matrix)\n"
   ]
  },
  {
   "cell_type": "code",
   "execution_count": 122,
   "metadata": {
    "collapsed": false
   },
   "outputs": [
    {
     "data": {
      "text/plain": [
       "(111, 111)"
      ]
     },
     "execution_count": 122,
     "metadata": {},
     "output_type": "execute_result"
    }
   ],
   "source": [
    "len(distance_matrix[0][0])\n",
    "#len(distance_matrix[0])\n",
    "#len(distance_matrix)\n",
    "\n",
    "Euclidean_distance_matrix.shape"
   ]
  },
  {
   "cell_type": "code",
   "execution_count": 100,
   "metadata": {
    "collapsed": false
   },
   "outputs": [
    {
     "name": "stdout",
     "output_type": "stream",
     "text": [
      "silhouette_avg for k= 2  is  0.479834825382\n",
      "silhouette_avg for k= 3  is  0.53728697714\n",
      "silhouette_avg for k= 4  is  0.530091332823\n",
      "silhouette_avg for k= 5  is  0.566996258559\n",
      "silhouette_avg for k= 6  is  0.582708829442\n",
      "silhouette_avg for k= 7  is  0.526707714703\n",
      "silhouette_avg for k= 8  is  0.537526380483\n",
      "silhouette_avg for k= 9  is  0.560923230013\n",
      "silhouette_avg for k= 10  is  0.572753844518\n",
      "silhouette_avg for k= 11  is  0.566246938836\n",
      "silhouette_avg for k= 12  is  0.568522864443\n",
      "silhouette_avg for k= 13  is  0.541712792914\n",
      "silhouette_avg for k= 14  is  0.550142346893\n",
      "silhouette_avg for k= 15  is  0.568282989169\n",
      "silhouette_avg for k= 16  is  0.588156632587\n",
      "silhouette_avg for k= 17  is  0.61060808362\n",
      "silhouette_avg for k= 18  is  0.605214810718\n",
      "silhouette_avg for k= 19  is  0.604753677211\n",
      "silhouette_avg for k= 20  is  0.598559778638\n",
      "silhouette_avg for k= 21  is  0.617375788493\n",
      "silhouette_avg for k= 22  is  0.630755790934\n",
      "silhouette_avg for k= 23  is  0.644197777822\n",
      "silhouette_avg for k= 24  is  0.661174304753\n",
      "silhouette_avg for k= 25  is  0.659452854427\n",
      "silhouette_avg for k= 26  is  0.641370854699\n",
      "silhouette_avg for k= 27  is  0.666462574048\n",
      "silhouette_avg for k= 28  is  0.677538455732\n",
      "silhouette_avg for k= 29  is  0.681593260506\n",
      "silhouette_avg for k= 30  is  0.691819553178\n",
      "silhouette_avg for k= 31  is  0.702722860139\n",
      "silhouette_avg for k= 32  is  0.718692632035\n",
      "silhouette_avg for k= 33  is  0.729015995652\n",
      "silhouette_avg for k= 34  is  0.743149702199\n",
      "silhouette_avg for k= 35  is  0.742935694437\n",
      "silhouette_avg for k= 36  is  0.750523506309\n",
      "silhouette_avg for k= 37  is  0.730753558429\n",
      "silhouette_avg for k= 38  is  0.735022476116\n",
      "silhouette_avg for k= 39  is  0.708301482735\n",
      "silhouette_avg for k= 40  is  0.718833036129\n",
      "silhouette_avg for k= 41  is  0.713494291778\n",
      "silhouette_avg for k= 42  is  0.712422276857\n",
      "silhouette_avg for k= 43  is  0.72485092008\n",
      "silhouette_avg for k= 44  is  0.708321528774\n",
      "silhouette_avg for k= 45  is  0.72799731009\n",
      "silhouette_avg for k= 46  is  0.712526985282\n",
      "silhouette_avg for k= 47  is  0.753623909758\n",
      "silhouette_avg for k= 48  is  0.729239899626\n",
      "silhouette_avg for k= 49  is  0.758782917753\n",
      "silhouette_avg for k= 50  is  0.75094999815\n",
      "silhouette_avg for k= 51  is  0.741655823534\n",
      "silhouette_avg for k= 52  is  0.748024013452\n",
      "silhouette_avg for k= 53  is  0.747002443075\n",
      "silhouette_avg for k= 54  is  0.757693181954\n",
      "silhouette_avg for k= 55  is  0.775597931191\n",
      "silhouette_avg for k= 56  is  0.749849211205\n",
      "silhouette_avg for k= 57  is  0.771627475798\n",
      "silhouette_avg for k= 58  is  0.755073921624\n",
      "silhouette_avg for k= 59  is  0.755532963913\n",
      "silhouette_avg for k= 60  is  0.783839669728\n",
      "silhouette_avg for k= 61  is  0.774473167782\n",
      "silhouette_avg for k= 62  is  0.764972413179\n",
      "silhouette_avg for k= 63  is  0.760566752863\n",
      "silhouette_avg for k= 64  is  0.788602165841\n",
      "silhouette_avg for k= 65  is  0.782608296875\n",
      "silhouette_avg for k= 66  is  0.77767376144\n",
      "silhouette_avg for k= 67  is  0.782506126461\n",
      "silhouette_avg for k= 68  is  0.783065334134\n",
      "silhouette_avg for k= 69  is  0.789103186022\n",
      "silhouette_avg for k= 70  is  0.785101465748\n",
      "silhouette_avg for k= 71  is  0.793862206123\n",
      "silhouette_avg for k= 72  is  0.808600093781\n",
      "silhouette_avg for k= 73  is  0.815607527431\n",
      "silhouette_avg for k= 74  is  0.82394416569\n",
      "silhouette_avg for k= 75  is  0.824302288032\n",
      "silhouette_avg for k= 76  is  0.831277702384\n",
      "silhouette_avg for k= 77  is  0.848478858171\n",
      "silhouette_avg for k= 78  is  0.852356064711\n",
      "silhouette_avg for k= 79  is  0.8563738058\n",
      "silhouette_avg for k= 80  is  0.889667763911\n",
      "silhouette_avg for k= 81  is  0.909318082611\n",
      "silhouette_avg for k= 82  is  0.90610818535\n",
      "silhouette_avg for k= 83  is  0.92448841834\n",
      "silhouette_avg for k= 84  is  0.925016061547\n",
      "silhouette_avg for k= 85  is  0.938602854693\n",
      "silhouette_avg for k= 86  is  0.942673909029\n",
      "silhouette_avg for k= 87  is  0.956594747408\n",
      "silhouette_avg for k= 88  is  0.969175427892\n",
      "silhouette_avg for k= 89  is  0.983342078228\n",
      "silhouette_avg for k= 90  is  0.986611589969\n",
      "silhouette_avg for k= 91  is  0.996070121886\n",
      "silhouette_avg for k= 92  is  0.996700802445\n",
      "silhouette_avg for k= 93  is  0.9999999047\n",
      "silhouette_avg for k= 94  is  0.9999999047\n",
      "silhouette_avg for k= 95  is  0.9999999047\n",
      "silhouette_avg for k= 96  is  0.9999999047\n",
      "silhouette_avg for k= 97  is  0.9999999047\n",
      "silhouette_avg for k= 98  is  0.9999999047\n",
      "silhouette_avg for k= 99  is  0.9999999047\n",
      "silhouette_avg for k= 100  is  0.9999999047\n",
      "silhouette_avg for k= 101  is  0.9999999047\n",
      "silhouette_avg for k= 102  is  0.9999999047\n",
      "silhouette_avg for k= 103  is  0.9999999047\n",
      "silhouette_avg for k= 104  is  0.9999999047\n",
      "silhouette_avg for k= 105  is  0.9999999047\n",
      "silhouette_avg for k= 106  is  0.9999999047\n",
      "silhouette_avg for k= 107  is  0.9999999047\n",
      "silhouette_avg for k= 108  is  0.9999999047\n",
      "silhouette_avg for k= 109  is  0.9999999047\n",
      "silhouette_avg for k= 110  is  0.9999999047\n",
      "the best silhouette_avg is: 0.9999999047 . K= 93\n"
     ]
    },
    {
     "data": {
      "image/png": "[encoded data removed]",
      "text/plain": [
       "<matplotlib.figure.Figure at 0x7fe56aa3d518>"
      ]
     },
     "metadata": {},
     "output_type": "display_data"
    }
   ],
   "source": [
    "\n",
    "the_best_K=int()\n",
    "silhouette_avg=list()\n",
    "range_n_clusters = range(2,len(Euclidean_distance_matrix))\n",
    "for n_clusters in range_n_clusters:\n",
    "    clusterer = KMeans(n_clusters=n_clusters)\n",
    "    cluster_labels = clusterer.fit_predict(Euclidean_distance_matrix)\n",
    "    silhouette_avg.append(silhouette_score(Euclidean_distance_matrix, cluster_labels))\n",
    "\n",
    "for index,item in enumerate(silhouette_avg) :\n",
    "    print(\"silhouette_avg for k=\",index+2,\" is \",item)\n",
    "    \n",
    "    \n",
    "print(\"the best silhouette_avg is:\" ,max(silhouette_avg),\". K=\",(silhouette_avg.index(max(silhouette_avg)))+2)\n",
    "the_best_K=(silhouette_avg.index(max(silhouette_avg)))+2\n"
   ]
  },
  {
   "cell_type": "code",
   "execution_count": 105,
   "metadata": {
    "collapsed": false
   },
   "outputs": [
    {
     "data": {
      "image/png": "[encoded data removed]",
      "text/plain": [
       "<matplotlib.figure.Figure at 0x7fe56a6326a0>"
      ]
     },
     "metadata": {},
     "output_type": "display_data"
    }
   ],
   "source": [
    "import matplotlib.pyplot as plt\n",
    "plt.plot(silhouette_avg)\n",
    "plt.ylabel('value')\n",
    "plt.xlabel('k number')\n",
    "plt.show()"
   ]
  },
  {
   "cell_type": "code",
   "execution_count": 96,
   "metadata": {
    "collapsed": false
   },
   "outputs": [
    {
     "name": "stdout",
     "output_type": "stream",
     "text": [
      "[1 1 1 1 1 1 1 1 1 1 0 1 1 1 1 1 1 1 1 1 1 1 1 1 1 3 3 3 3 3 4 4 4 4 4 4 4\n",
      " 4 4 4 1 1 1 1 1 1 1 1 1 1 1 1 1 1 5 4 4 4 5 0 2 2 2 2 5 5 5 5 5 5 0 0 0 0\n",
      " 0 0 2 0 0 0 0 0 0 0 2 0 0 2 2 2 5 5 5 5 0 0 0 0 0 2 0 0 0 0 0 0 0 2 0 0 0]\n"
     ]
    }
   ],
   "source": [
    "the_best_K=6\n",
    "kmeans = KMeans(the_best_K).fit(Euclidean_distance_matrix)\n",
    "print(kmeans.labels_)"
   ]
  },
  {
   "cell_type": "code",
   "execution_count": 150,
   "metadata": {
    "collapsed": false
   },
   "outputs": [
    {
     "data": {
      "image/png": "[encoded data removed]",
      "text/plain": [
       "<matplotlib.figure.Figure at 0x7fe56a7f0780>"
      ]
     },
     "metadata": {},
     "output_type": "display_data"
    }
   ],
   "source": [
    "import matplotlib.pyplot as plt\n",
    "from sklearn.cluster import KMeans\n",
    "\n",
    "\n",
    "y_pred = KMeans(n_clusters=the_best_K).fit_predict(Euclidean_distance_matrix)\n",
    "plt.scatter(Euclidean_distance_matrix[:, 0], Euclidean_distance_matrix[:, 1], c=y_pred)\n",
    "plt.title(\"Kmeans clustering\")\n",
    "plt.show()"
   ]
  }
 ],
 "metadata": {
  "anaconda-cloud": {},
  "kernelspec": {
   "display_name": "Python [conda root]",
   "language": "python",
   "name": "conda-root-py"
  },
  "language_info": {
   "codemirror_mode": {
    "name": "ipython",
    "version": 3
   },
   "file_extension": ".py",
   "mimetype": "text/x-python",
   "name": "python",
   "nbconvert_exporter": "python",
   "pygments_lexer": "ipython3",
   "version": "3.5.2"
  }
 },
 "nbformat": 4,
 "nbformat_minor": 1
}
