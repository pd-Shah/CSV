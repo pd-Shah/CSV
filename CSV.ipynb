{
 "cells": [
  {
   "cell_type": "markdown",
   "metadata": {},
   "source": [
    "# csv – Comma-separated value files\n"
   ]
  },
  {
   "cell_type": "markdown",
   "metadata": {},
   "source": [
    "Each line in a CSV file represents a row in the spreadsheet, and commas separate the cells in the row. For example, the spreadsheet example.xlsx from http://nostarch.com/automatestuff/ would look like this in a CSV file:"
   ]
  },
  {
   "cell_type": "markdown",
   "metadata": {},
   "source": [
    "    4/5/2015 13:34,Apples,73\n",
    "    4/5/2015 3:41,Cherries,85\n",
    "    4/6/2015 12:46,Pears,14\n",
    "    4/8/2015 8:59,Oranges,52\n",
    "    4/10/2015 2:07,Apples,152\n",
    "    4/10/2015 18:10,Bananas,23\n",
    "    4/10/2015 2:40,Strawberries,98"
   ]
  },
  {
   "cell_type": "markdown",
   "metadata": {},
   "source": [
    "CSV files are simple, lacking many of the features of an Excel spreadsheet. For example, CSV files\n",
    "\n",
    ">Don’t have types for their values—everything is a string\n",
    "\n",
    ">Don’t have settings for font size or color\n",
    "\n",
    ">Don’t have multiple worksheets\n",
    "\n",
    ">Can’t specify cell widths and heights\n",
    "\n",
    ">Can’t have merged cells\n",
    "\n",
    ">Can’t have images or charts embedded in them\n",
    "\n",
    "The advantage of CSV files is simplicity. CSV files are widely supported by many types of programs, can be viewed in text editors (including IDLE’s file editor), and are a straightforward way to represent spreadsheet data. The CSV format is exactly as advertised: It’s just a text file of comma-separated values."
   ]
  },
  {
   "cell_type": "markdown",
   "metadata": {},
   "source": [
    "# read data from a CSV file with the csv module"
   ]
  },
  {
   "cell_type": "code",
   "execution_count": 13,
   "metadata": {
    "collapsed": true
   },
   "outputs": [],
   "source": [
    "import csv\n",
    "exampleFile = open('mpg.csv')\n",
    "exampleReader = csv.reader(exampleFile)\n"
   ]
  },
  {
   "cell_type": "code",
   "execution_count": 14,
   "metadata": {
    "collapsed": false
   },
   "outputs": [
    {
     "data": {
      "text/plain": [
       "(['class',\n",
       "  'displ',\n",
       "  'trans',\n",
       "  'cyl',\n",
       "  'trans.dscr',\n",
       "  'cty',\n",
       "  'hwy',\n",
       "  'fl',\n",
       "  'model',\n",
       "  'eng.dscr',\n",
       "  'eng.dscr.1',\n",
       "  'year',\n",
       "  'manufacturer',\n",
       "  'twodoor.p',\n",
       "  'twodoor.l',\n",
       "  'fourdoor.p',\n",
       "  'fourdoor.l',\n",
       "  'hatch.p',\n",
       "  'hatch.l',\n",
       "  'T',\n",
       "  'G',\n",
       "  'drv',\n",
       "  'vpc',\n",
       "  'bidx',\n",
       "  'x5c',\n",
       "  'S',\n",
       "  'eng.dscr.2'],\n",
       " ['3',\n",
       "  'NA',\n",
       "  'NA',\n",
       "  '4',\n",
       "  'A',\n",
       "  '19.3',\n",
       "  '24.8',\n",
       "  'Unleaded Gasoline',\n",
       "  'ALFETTA',\n",
       "  'NA',\n",
       "  'NA',\n",
       "  '1978',\n",
       "  'ALFA ROMEO',\n",
       "  '74',\n",
       "  '7',\n",
       "  '89',\n",
       "  '9',\n",
       "  'NA',\n",
       "  '          ',\n",
       "  'FALSE',\n",
       "  'FALSE',\n",
       "  'NA',\n",
       "  'NA',\n",
       "  'NA',\n",
       "  'NA',\n",
       "  'FALSE',\n",
       "  'NA'],\n",
       " ['3',\n",
       "  'NA',\n",
       "  'NA',\n",
       "  '4',\n",
       "  'M',\n",
       "  '19.3',\n",
       "  '29',\n",
       "  'Unleaded Gasoline',\n",
       "  'ALFETTA',\n",
       "  'NA',\n",
       "  'NA',\n",
       "  '1978',\n",
       "  'ALFA ROMEO',\n",
       "  '74',\n",
       "  '7',\n",
       "  '89',\n",
       "  '9',\n",
       "  'NA',\n",
       "  '          ',\n",
       "  'FALSE',\n",
       "  'FALSE',\n",
       "  'NA',\n",
       "  'NA',\n",
       "  'NA',\n",
       "  'NA',\n",
       "  'FALSE',\n",
       "  'NA'])"
      ]
     },
     "execution_count": 14,
     "metadata": {},
     "output_type": "execute_result"
    }
   ],
   "source": [
    "example_reader_as_list=list(exampleReader)\n",
    "example_reader_as_list[0],example_reader_as_list[1],example_reader_as_list[2]"
   ]
  },
  {
   "cell_type": "code",
   "execution_count": 16,
   "metadata": {
    "collapsed": false
   },
   "outputs": [
    {
     "data": {
      "text/plain": [
       "(['class',\n",
       "  'displ',\n",
       "  'trans',\n",
       "  'cyl',\n",
       "  'trans.dscr',\n",
       "  'cty',\n",
       "  'hwy',\n",
       "  'fl',\n",
       "  'model',\n",
       "  'eng.dscr',\n",
       "  'eng.dscr.1',\n",
       "  'year',\n",
       "  'manufacturer',\n",
       "  'twodoor.p',\n",
       "  'twodoor.l',\n",
       "  'fourdoor.p',\n",
       "  'fourdoor.l',\n",
       "  'hatch.p',\n",
       "  'hatch.l',\n",
       "  'T',\n",
       "  'G',\n",
       "  'drv',\n",
       "  'vpc',\n",
       "  'bidx',\n",
       "  'x5c',\n",
       "  'S',\n",
       "  'eng.dscr.2'],\n",
       " 'class',\n",
       " 'displ')"
      ]
     },
     "execution_count": 16,
     "metadata": {},
     "output_type": "execute_result"
    }
   ],
   "source": [
    "example_reader_as_list[0], example_reader_as_list[0][0], example_reader_as_list[0][1]"
   ]
  },
  {
   "cell_type": "markdown",
   "metadata": {},
   "source": [
    "# write data to a CSV file."
   ]
  },
  {
   "cell_type": "code",
   "execution_count": 19,
   "metadata": {
    "collapsed": true
   },
   "outputs": [],
   "source": [
    "import csv\n",
    "outputFile = open('output.csv', 'w', newline='') # for windows newline='')\n",
    "outputWriter = csv.writer(outputFile)\n"
   ]
  },
  {
   "cell_type": "code",
   "execution_count": 20,
   "metadata": {
    "collapsed": true
   },
   "outputs": [],
   "source": [
    "outputWriter.writerow(['spam', 'eggs', 'bacon', 'ham'])\n",
    "outputWriter.writerow(['Hello, world!', 'eggs', 'bacon', 'ham'])\n",
    "outputWriter.writerow([1, 2, 3.141592, 4])\n",
    "outputFile.close()"
   ]
  },
  {
   "cell_type": "markdown",
   "metadata": {},
   "source": [
    "# JSON and APIs\n",
    "\n",
    "JavaScript Object Notation is a popular way to format data as a single human-readable string. JSON is the native way that JavaScript programs write their data structures and usually resembles what Python’s pprint() function would produce. You don’t need to know JavaScript in order to work with JSON-formatted data.\n",
    "\n",
    "Here’s an example of data formatted as JSON:\n",
    "\n",
    "{\"name\": \"Zophie\", \"isCat\": true,\n",
    " \"miceCaught\": 0, \"napsTaken\": 37.5,\n",
    " \"felineIQ\": null}\n",
    " \n",
    "JSON is useful to know, because many websites offer JSON content as a way for programs to interact with the website. This is known as providing an application programming interface (API). Accessing an API is the same as accessing any other web page via a URL. The difference is that the data returned by an API is formatted (with JSON, for example) for machines; APIs aren’t easy for people to read.\n",
    "\n",
    "Many websites make their data available in JSON format. Facebook, Twitter, Yahoo, Google, Tumblr, Wikipedia, Flickr, Data.gov, Reddit, IMDb, Rotten Tomatoes, LinkedIn, and many other popular sites offer APIs for programs to use. Some of these sites require registration, which is almost always free. You’ll have to find documentation for what URLs your program needs to request in order to get the data you want, as well as the general format of the JSON data structures that are returned. This documentation should be provided by whatever site is offering the API; if they have a “Developers” page, look for the documentation there.\n",
    "\n",
    "Using APIs, you could write programs that do the following:\n",
    "\n",
    ">Scrape raw data from websites. (Accessing APIs is often more convenient than downloading web pages and parsing HTML with Beautiful Soup.)\n",
    "\n",
    ">Automatically download new posts from one of your social network accounts and post them to another account. For example, you could take your Tumblr posts and post them to Facebook.\n",
    "\n",
    ">Create a “movie encyclopedia” for your personal movie collection by pulling data from IMDb, Rotten Tomatoes, and Wikipedia and putting it into a single text file on your computer."
   ]
  },
  {
   "cell_type": "markdown",
   "metadata": {},
   "source": [
    "# Fetching Current Weather Data\n",
    "\n",
    "\n",
    "### OpenWeatherMap.org provides real-time weather information in JSON format. \n",
    ">http://openweathermap.org/current\n",
    "\n",
    "You can call by city ID. API responds with exact result.\n",
    "\n",
    "List of city ID city.list.json.gz can be downloaded here http://bulk.openweathermap.org/sample/\n",
    "\n",
    "e.g.:\n",
    "\n",
    ">{\"_id\":112646,\"name\":\"Torbat-e Heydariyeh\",\"country\":\"IR\",\"coord\":{\"lon\":59.21949,\"lat\":35.27401}}\n",
    "{\"_id\":124665,\"name\":\"Mashhad\",\"country\":\"IR\",\"coord\":{\"lon\":59.606201,\"lat\":36.297001}}\n",
    "{\"_id\":112931,\"name\":\"Tehran\",\"country\":\"IR\",\"coord\":{\"lon\":51.421509,\"lat\":35.694389}}\n",
    "{\"_id\":134460,\"name\":\"Fīsherābād\",\"country\":\"IR\",\"coord\":{\"lon\":51.433331,\"lat\":35.666672}}\n",
    "{\"_id\":418863,\"name\":\"Esfahan\",\"country\":\"IR\",\"coord\":{\"lon\":51.677608,\"lat\":32.657219}}\n",
    "{\"_id\":134766,\"name\":\"Ostān-e Fārs\",\"country\":\"IR\",\"coord\":{\"lon\":53,\"lat\":29}}\n",
    "{\"_id\":128747,\"name\":\"Karaj\",\"country\":\"IR\",\"coord\":{\"lon\":51.0103,\"lat\":35.835499}}\n",
    "{\"_id\":142549,\"name\":\"Ostān-e Āz̄arbāyjān-e Sharqī\",\"country\":\"IR\",\"coord\":{\"lon\":46.75,\"lat\":38}}\n",
    "{\"_id\":130801,\"name\":\"Ostān-e Īlām\",\"country\":\"IR\",\"coord\":{\"lon\":47,\"lat\":33.166672}}\n",
    "{\"_id\":130802,\"name\":\"Ilam\",\"country\":\"IR\",\"coord\":{\"lon\":46.422699,\"lat\":33.637402}}\n",
    "{\"_id\":143127,\"name\":\"Arak\",\"country\":\"IR\",\"coord\":{\"lon\":49.689159,\"lat\":34.09174}}\n",
    "{\"_id\":128231,\"name\":\"Ostān-e Kermān\",\"country\":\"IR\",\"coord\":{\"lon\":57.25,\"lat\":29.75}}\n",
    "{\"_id\":128234,\"name\":\"Kerman\",\"country\":\"IR\",\"coord\":{\"lon\":57.078789,\"lat\":30.283211}}\n",
    "{\"_id\":116402,\"name\":\"Semnan\",\"country\":\"IR\",\"coord\":{\"lon\":53.397141,\"lat\":35.57291}}\n",
    "{\"_id\":111452,\"name\":\"Ostān-e Zanjān\",\"country\":\"IR\",\"coord\":{\"lon\":48.333328,\"lat\":36.5}}\n",
    "{\"_id\":1159456,\"name\":\"Ostān-e Sīstān va Balūchestān\",\"country\":\"IR\",\"coord\":{\"lon\":60.5,\"lat\":28.5}}\n",
    "{\"_id\":125605,\"name\":\"Ostān-e Lorestān\",\"country\":\"IR\",\"coord\":{\"lon\":48.5,\"lat\":33.5}}\n",
    "{\"_id\":143083,\"name\":\"Ardabil\",\"country\":\"IR\",\"coord\":{\"lon\":48.293301,\"lat\":38.249802}}\n",
    "{\"_id\":443793,\"name\":\"Ostān-e Qazvīn\",\"country\":\"IR\",\"coord\":{\"lon\":49.75,\"lat\":36}}\n",
    "{\"_id\":119505,\"name\":\"Qazvin\",\"country\":\"IR\",\"coord\":{\"lon\":50.004902,\"lat\":36.279701}}\n",
    "{\"_id\":139816,\"name\":\"Ostān-e Būshehr\",\"country\":\"IR\",\"coord\":{\"lon\":51.5,\"lat\":28.75}}\n",
    "{\"_id\":116996,\"name\":\"Shari-i-Tajan\",\"country\":\"IR\",\"coord\":{\"lon\":53.060089,\"lat\":36.56332}}\n",
    "{\"_id\":128226,\"name\":\"Kermanshah\",\"country\":\"IR\",\"coord\":{\"lon\":47.064999,\"lat\":34.314171}}\n",
    "{\"_id\":7789591,\"name\":\"Pas Kalāyeh-ye Kūchak\",\"country\":\"IR\",\"coord\":{\"lon\":50.878052,\"lat\":36.807171}}\n",
    "{\"_id\":140918,\"name\":\"Behshahr\",\"country\":\"IR\",\"coord\":{\"lon\":53.55262,\"lat\":36.692348}}\n",
    "{\"_id\":133349,\"name\":\"Ostān-e Gīlān\",\"country\":\"IR\",\"coord\":{\"lon\":49.5,\"lat\":37.166672}}\n",
    "{\"_id\":118743,\"name\":\"Rasht\",\"country\":\"IR\",\"coord\":{\"lon\":49.583191,\"lat\":37.280769}}\n",
    "{\"_id\":136256,\"name\":\"Dezful\",\"country\":\"IR\",\"coord\":{\"lon\":48.40581,\"lat\":32.38114}}\n",
    "{\"_id\":126878,\"name\":\"Ostān-e Kohgīlūyeh va Bowyer Aḩmad\",\"country\":\"IR\",\"coord\":{\"lon\":50.666672,\"lat\":30.83333}}\n",
    "{\"_id\":125315,\"name\":\"Maḩmūdābād-e Soflá\",\"country\":\"IR\",\"coord\":{\"lon\":51.612202,\"lat\":30.66028}}\n",
    "{\"_id\":118994,\"name\":\"Rafsanjan\",\"country\":\"IR\",\"coord\":{\"lon\":55.9939,\"lat\":30.4067}}\n",
    "{\"_id\":142363,\"name\":\"Babol\",\"country\":\"IR\",\"coord\":{\"lon\":52.678951,\"lat\":36.551319}}\n",
    "\n",
    "\n",
    "### Examples of API calls:\n",
    "\n",
    "Parameters:\n",
    ">id: City ID\n",
    "\n",
    ">http://www.api.openweathermap.org/data/2.5/weather?id=2172797\n",
    "\n",
    "\n",
    "# Download the JSON data from OpenWeatherMap.org's API.\n"
   ]
  },
  {
   "cell_type": "code",
   "execution_count": 28,
   "metadata": {
    "collapsed": false
   },
   "outputs": [],
   "source": [
    "import json, requests\n",
    "\n",
    "url ='http://samples.openweathermap.org/data/2.5/weather?id=112931&appid=8b16d8b5328489d60474ee9b8c9b47cb'\n",
    "\n",
    "response = requests.get(url)\n",
    "response.raise_for_status()"
   ]
  },
  {
   "cell_type": "code",
   "execution_count": 38,
   "metadata": {
    "collapsed": false
   },
   "outputs": [
    {
     "data": {
      "text/plain": [
       "(dict,\n",
       " {'base': 'stations',\n",
       "  'clouds': {'all': 40},\n",
       "  'cod': 200,\n",
       "  'coord': {'lat': -16.92, 'lon': 145.77},\n",
       "  'dt': 1485790200,\n",
       "  'id': 2172797,\n",
       "  'main': {'humidity': 74,\n",
       "   'pressure': 1007,\n",
       "   'temp': 300.15,\n",
       "   'temp_max': 300.15,\n",
       "   'temp_min': 300.15},\n",
       "  'name': 'Cairns',\n",
       "  'sys': {'country': 'AU',\n",
       "   'id': 8166,\n",
       "   'message': 0.2064,\n",
       "   'sunrise': 1485720272,\n",
       "   'sunset': 1485766550,\n",
       "   'type': 1},\n",
       "  'visibility': 10000,\n",
       "  'weather': [{'description': 'scattered clouds',\n",
       "    'icon': '03n',\n",
       "    'id': 802,\n",
       "    'main': 'Clouds'}],\n",
       "  'wind': {'deg': 160, 'speed': 3.6}})"
      ]
     },
     "execution_count": 38,
     "metadata": {},
     "output_type": "execute_result"
    }
   ],
   "source": [
    "x=response.json()\n",
    "type(x), x"
   ]
  },
  {
   "cell_type": "code",
   "execution_count": 42,
   "metadata": {
    "collapsed": false
   },
   "outputs": [
    {
     "name": "stdout",
     "output_type": "stream",
     "text": [
      "clouds {'all': 40}\n",
      "weather [{'id': 802, 'icon': '03n', 'main': 'Clouds', 'description': 'scattered clouds'}]\n",
      "cod 200\n",
      "main {'temp': 300.15, 'humidity': 74, 'temp_min': 300.15, 'temp_max': 300.15, 'pressure': 1007}\n",
      "wind {'deg': 160, 'speed': 3.6}\n",
      "dt 1485790200\n",
      "id 2172797\n",
      "visibility 10000\n",
      "coord {'lon': 145.77, 'lat': -16.92}\n",
      "sys {'country': 'AU', 'message': 0.2064, 'id': 8166, 'sunrise': 1485720272, 'sunset': 1485766550, 'type': 1}\n",
      "base stations\n",
      "name Cairns\n"
     ]
    }
   ],
   "source": [
    "for k,v in x.items():\n",
    "    print(k,v)"
   ]
  },
  {
   "cell_type": "code",
   "execution_count": 44,
   "metadata": {
    "collapsed": false
   },
   "outputs": [],
   "source": [
    "import csv\n",
    "outputFile = open('Weather.csv', 'w', newline='') # for windows newline='')\n",
    "outputWriter = csv.writer(outputFile)\n",
    "for k,v in x.items():\n",
    "    outputWriter.writerow((k,v))\n",
    "outputFile.close()"
   ]
  },
  {
   "cell_type": "markdown",
   "metadata": {},
   "source": [
    "##  Mining CSV files¶\n",
    "\n",
    "Let's import our datafile mpg.csv, which contains fuel economy data for 36615 cars.\n",
    "\n",
    "mpg : miles per gallon\n",
    "\n",
    "class : car classification\n",
    "\n",
    "cty : city mpg\n",
    "\n",
    "cyl : # of cylinders\n",
    "\n",
    "displ : engine displacement in liters\n",
    "\n",
    "drv : f = front-wheel drive, r = rear wheel drive, 4 = 4wd\n",
    "\n",
    "fl : fuel (e = ethanol E85, d = diesel, r = regular, p = premium, c = CNG)\n",
    "\n",
    "hwy : highway mpg\n",
    "\n",
    "manufacturer : automobile manufacturer\n",
    "\n",
    "model : model of car\n",
    "\n",
    "trans : type of transmission\n",
    "\n",
    "year : model year\n",
    "\n",
    "<br><br><br>\n",
    "\n",
    "# question:\n",
    "<br>\n",
    "### 1: How much is the average city fuel economy across all cars ?\n",
    "### 2: How much are cylinders of the cars in our dataset have?\n",
    "### 3: If we grouping the cars by number of cylinder, how many is the average cty mpg for each group?\n",
    "### 4: Which car model is the most fuel average usage\n",
    "\n",
    "\n",
    "<br><br><br><br><br>"
   ]
  },
  {
   "cell_type": "code",
   "execution_count": 2,
   "metadata": {
    "collapsed": false
   },
   "outputs": [
    {
     "data": {
      "text/plain": [
       "'19.3'"
      ]
     },
     "execution_count": 2,
     "metadata": {},
     "output_type": "execute_result"
    }
   ],
   "source": [
    "import csv\n",
    "with open('mpg.csv') as csvfile:\n",
    "    mpg = list(csv.DictReader(csvfile))\n",
    "mpg[0]['cty']"
   ]
  },
  {
   "cell_type": "code",
   "execution_count": 14,
   "metadata": {
    "collapsed": false
   },
   "outputs": [
    {
     "data": {
      "text/plain": [
       "{'G': 'FALSE',\n",
       " 'S': 'FALSE',\n",
       " 'T': 'FALSE',\n",
       " 'bidx': 'NA',\n",
       " 'class': '4',\n",
       " 'cty': '18.0656',\n",
       " 'cyl': '6',\n",
       " 'displ': 'NA',\n",
       " 'drv': 'NA',\n",
       " 'eng.dscr': 'NA',\n",
       " 'eng.dscr.1': 'NA',\n",
       " 'eng.dscr.2': 'NA',\n",
       " 'fl': 'Unleaded Gasoline',\n",
       " 'fourdoor.l': 'NA',\n",
       " 'fourdoor.p': 'NA',\n",
       " 'hatch.l': '11        ',\n",
       " 'hatch.p': '89',\n",
       " 'hwy': '23.4526',\n",
       " 'manufacturer': 'AMC',\n",
       " 'model': 'PACER',\n",
       " 'trans': 'NA',\n",
       " 'trans.dscr': 'A',\n",
       " 'twodoor.l': 'NA',\n",
       " 'twodoor.p': 'NA',\n",
       " 'vpc': 'NA',\n",
       " 'x5c': 'NA',\n",
       " 'year': '1978'}"
      ]
     },
     "execution_count": 14,
     "metadata": {},
     "output_type": "execute_result"
    }
   ],
   "source": [
    "mpg[20]"
   ]
  },
  {
   "cell_type": "code",
   "execution_count": 13,
   "metadata": {
    "collapsed": false
   },
   "outputs": [
    {
     "data": {
      "text/plain": [
       "'89'"
      ]
     },
     "execution_count": 13,
     "metadata": {},
     "output_type": "execute_result"
    }
   ],
   "source": [
    "mpg[0]['fourdoor.p']"
   ]
  },
  {
   "cell_type": "code",
   "execution_count": 24,
   "metadata": {
    "collapsed": false
   },
   "outputs": [
    {
     "data": {
      "text/plain": [
       "36615"
      ]
     },
     "execution_count": 24,
     "metadata": {},
     "output_type": "execute_result"
    }
   ],
   "source": [
    "len(mpg)"
   ]
  },
  {
   "cell_type": "code",
   "execution_count": 3,
   "metadata": {
    "collapsed": false
   },
   "outputs": [
    {
     "data": {
      "text/plain": [
       "dict_keys(['cyl', 'hatch.l', 'cty', 'G', 'manufacturer', 'displ', 'twodoor.l', 'x5c', 'year', 'fl', 'fourdoor.p', 'hwy', 'class', 'bidx', 'eng.dscr', 'eng.dscr.1', 'eng.dscr.2', 'trans', 'model', 'drv', 'hatch.p', 'fourdoor.l', 'trans.dscr', 'T', 'S', 'twodoor.p', 'vpc'])"
      ]
     },
     "execution_count": 3,
     "metadata": {},
     "output_type": "execute_result"
    }
   ],
   "source": [
    "mpg[0].keys()"
   ]
  },
  {
   "cell_type": "code",
   "execution_count": 1,
   "metadata": {
    "collapsed": false
   },
   "outputs": [
    {
     "name": "stderr",
     "output_type": "stream",
     "text": [
      "/root/anaconda3/lib/python3.5/site-packages/IPython/core/interactiveshell.py:2717: DtypeWarning: Columns (10,13,14,15,16,17,18,24,25,26) have mixed types. Specify dtype option on import or set low_memory=False.\n",
      "  interactivity=interactivity, compiler=compiler, result=result)\n"
     ]
    },
    {
     "data": {
      "text/html": [
       "<div>\n",
       "<table border=\"1\" class=\"dataframe\">\n",
       "  <thead>\n",
       "    <tr style=\"text-align: right;\">\n",
       "      <th></th>\n",
       "      <th>class</th>\n",
       "      <th>displ</th>\n",
       "      <th>trans</th>\n",
       "      <th>cyl</th>\n",
       "      <th>trans.dscr</th>\n",
       "      <th>cty</th>\n",
       "      <th>hwy</th>\n",
       "      <th>fl</th>\n",
       "      <th>model</th>\n",
       "      <th>eng.dscr</th>\n",
       "      <th>...</th>\n",
       "      <th>hatch.p</th>\n",
       "      <th>hatch.l</th>\n",
       "      <th>T</th>\n",
       "      <th>G</th>\n",
       "      <th>drv</th>\n",
       "      <th>vpc</th>\n",
       "      <th>bidx</th>\n",
       "      <th>x5c</th>\n",
       "      <th>S</th>\n",
       "      <th>eng.dscr.2</th>\n",
       "    </tr>\n",
       "  </thead>\n",
       "  <tbody>\n",
       "    <tr>\n",
       "      <th>0</th>\n",
       "      <td>3</td>\n",
       "      <td>NaN</td>\n",
       "      <td>NaN</td>\n",
       "      <td>4</td>\n",
       "      <td>A</td>\n",
       "      <td>19.3</td>\n",
       "      <td>24.8</td>\n",
       "      <td>Unleaded Gasoline</td>\n",
       "      <td>ALFETTA</td>\n",
       "      <td>NaN</td>\n",
       "      <td>...</td>\n",
       "      <td>NaN</td>\n",
       "      <td></td>\n",
       "      <td>False</td>\n",
       "      <td>False</td>\n",
       "      <td>NaN</td>\n",
       "      <td>NaN</td>\n",
       "      <td>NaN</td>\n",
       "      <td>NaN</td>\n",
       "      <td>False</td>\n",
       "      <td>NaN</td>\n",
       "    </tr>\n",
       "    <tr>\n",
       "      <th>1</th>\n",
       "      <td>3</td>\n",
       "      <td>NaN</td>\n",
       "      <td>NaN</td>\n",
       "      <td>4</td>\n",
       "      <td>M</td>\n",
       "      <td>19.3</td>\n",
       "      <td>29.0</td>\n",
       "      <td>Unleaded Gasoline</td>\n",
       "      <td>ALFETTA</td>\n",
       "      <td>NaN</td>\n",
       "      <td>...</td>\n",
       "      <td>NaN</td>\n",
       "      <td></td>\n",
       "      <td>False</td>\n",
       "      <td>False</td>\n",
       "      <td>NaN</td>\n",
       "      <td>NaN</td>\n",
       "      <td>NaN</td>\n",
       "      <td>NaN</td>\n",
       "      <td>False</td>\n",
       "      <td>NaN</td>\n",
       "    </tr>\n",
       "    <tr>\n",
       "      <th>2</th>\n",
       "      <td>3</td>\n",
       "      <td>NaN</td>\n",
       "      <td>NaN</td>\n",
       "      <td>4</td>\n",
       "      <td>M</td>\n",
       "      <td>19.3</td>\n",
       "      <td>29.0</td>\n",
       "      <td>Unleaded Gasoline</td>\n",
       "      <td>ALFETTA</td>\n",
       "      <td>NaN</td>\n",
       "      <td>...</td>\n",
       "      <td>NaN</td>\n",
       "      <td></td>\n",
       "      <td>False</td>\n",
       "      <td>False</td>\n",
       "      <td>NaN</td>\n",
       "      <td>NaN</td>\n",
       "      <td>NaN</td>\n",
       "      <td>NaN</td>\n",
       "      <td>False</td>\n",
       "      <td>NaN</td>\n",
       "    </tr>\n",
       "    <tr>\n",
       "      <th>3</th>\n",
       "      <td>3</td>\n",
       "      <td>NaN</td>\n",
       "      <td>NaN</td>\n",
       "      <td>4</td>\n",
       "      <td>A</td>\n",
       "      <td>19.3</td>\n",
       "      <td>24.8</td>\n",
       "      <td>Unleaded Gasoline</td>\n",
       "      <td>ALFETTA</td>\n",
       "      <td>NaN</td>\n",
       "      <td>...</td>\n",
       "      <td>NaN</td>\n",
       "      <td></td>\n",
       "      <td>False</td>\n",
       "      <td>False</td>\n",
       "      <td>NaN</td>\n",
       "      <td>NaN</td>\n",
       "      <td>NaN</td>\n",
       "      <td>NaN</td>\n",
       "      <td>False</td>\n",
       "      <td>NaN</td>\n",
       "    </tr>\n",
       "    <tr>\n",
       "      <th>4</th>\n",
       "      <td>1</td>\n",
       "      <td>NaN</td>\n",
       "      <td>NaN</td>\n",
       "      <td>4</td>\n",
       "      <td>M</td>\n",
       "      <td>17.6</td>\n",
       "      <td>26.1</td>\n",
       "      <td>Unleaded Gasoline</td>\n",
       "      <td>SPIDER 2000</td>\n",
       "      <td>NaN</td>\n",
       "      <td>...</td>\n",
       "      <td>NaN</td>\n",
       "      <td></td>\n",
       "      <td>False</td>\n",
       "      <td>False</td>\n",
       "      <td>NaN</td>\n",
       "      <td>NaN</td>\n",
       "      <td>NaN</td>\n",
       "      <td>NaN</td>\n",
       "      <td>False</td>\n",
       "      <td>NaN</td>\n",
       "    </tr>\n",
       "  </tbody>\n",
       "</table>\n",
       "<p>5 rows × 27 columns</p>\n",
       "</div>"
      ],
      "text/plain": [
       "  class  displ trans  cyl trans.dscr   cty   hwy                 fl  \\\n",
       "0     3    NaN   NaN    4          A  19.3  24.8  Unleaded Gasoline   \n",
       "1     3    NaN   NaN    4          M  19.3  29.0  Unleaded Gasoline   \n",
       "2     3    NaN   NaN    4          M  19.3  29.0  Unleaded Gasoline   \n",
       "3     3    NaN   NaN    4          A  19.3  24.8  Unleaded Gasoline   \n",
       "4     1    NaN   NaN    4          M  17.6  26.1  Unleaded Gasoline   \n",
       "\n",
       "         model eng.dscr    ...     hatch.p     hatch.l      T      G  drv vpc  \\\n",
       "0      ALFETTA      NaN    ...         NaN              False  False  NaN NaN   \n",
       "1      ALFETTA      NaN    ...         NaN              False  False  NaN NaN   \n",
       "2      ALFETTA      NaN    ...         NaN              False  False  NaN NaN   \n",
       "3      ALFETTA      NaN    ...         NaN              False  False  NaN NaN   \n",
       "4  SPIDER 2000      NaN    ...         NaN              False  False  NaN NaN   \n",
       "\n",
       "  bidx  x5c      S eng.dscr.2  \n",
       "0  NaN  NaN  False        NaN  \n",
       "1  NaN  NaN  False        NaN  \n",
       "2  NaN  NaN  False        NaN  \n",
       "3  NaN  NaN  False        NaN  \n",
       "4  NaN  NaN  False        NaN  \n",
       "\n",
       "[5 rows x 27 columns]"
      ]
     },
     "execution_count": 1,
     "metadata": {},
     "output_type": "execute_result"
    }
   ],
   "source": [
    "import pandas as pds\n",
    "datafile = pds.read_csv('mpg.csv')\n",
    "datafile[:5]"
   ]
  },
  {
   "cell_type": "markdown",
   "metadata": {},
   "source": [
    "<br><br><br><br>\n",
    "## how much are the average city fuel economy across all cars?"
   ]
  },
  {
   "cell_type": "code",
   "execution_count": null,
   "metadata": {
    "collapsed": false
   },
   "outputs": [],
   "source": [
    "mpg[0]['cty']\n",
    "x=list()\n",
    "type(x)"
   ]
  },
  {
   "cell_type": "code",
   "execution_count": null,
   "metadata": {
    "collapsed": false
   },
   "outputs": [],
   "source": [
    "for obj in mpg:\n",
    "    x.append( obj['cty'] )\n",
    "    "
   ]
  },
  {
   "cell_type": "code",
   "execution_count": null,
   "metadata": {
    "collapsed": false
   },
   "outputs": [],
   "source": [
    "x[:5]"
   ]
  },
  {
   "cell_type": "code",
   "execution_count": null,
   "metadata": {
    "collapsed": false
   },
   "outputs": [],
   "source": [
    "type(x[0])"
   ]
  },
  {
   "cell_type": "code",
   "execution_count": null,
   "metadata": {
    "collapsed": false
   },
   "outputs": [],
   "source": [
    "sum(x) => Error\n",
    "sum(float(x)) => Error"
   ]
  },
  {
   "cell_type": "code",
   "execution_count": null,
   "metadata": {
    "collapsed": false
   },
   "outputs": [],
   "source": [
    "x=[]\n",
    "for obj in mpg:\n",
    "    x.append(float( obj['cty'] )) #clear data"
   ]
  },
  {
   "cell_type": "code",
   "execution_count": null,
   "metadata": {
    "collapsed": false
   },
   "outputs": [],
   "source": [
    "print(\"len(x)=\",len(x))\n",
    "x=[] # reset x\n",
    "print(\"x=\",x,\"len(x)=\",len(x))\n",
    "\n",
    "\n",
    "\n",
    "counter=0\n",
    "for obj in mpg:\n",
    "    try:\n",
    "        x.append(float( obj['cty'] ))\n",
    "    except:\n",
    "        counter+=1\n",
    "        print(\"obj['cty']=\", obj['cty'], \"\\t\", \"counter=\",counter)\n"
   ]
  },
  {
   "cell_type": "code",
   "execution_count": null,
   "metadata": {
    "collapsed": false
   },
   "outputs": [],
   "source": [
    "len(mpg) - len(x)\n"
   ]
  },
  {
   "cell_type": "code",
   "execution_count": null,
   "metadata": {
    "collapsed": false
   },
   "outputs": [],
   "source": [
    "sum(x)/len(x)"
   ]
  },
  {
   "cell_type": "markdown",
   "metadata": {},
   "source": [
    "<br><br><br><br>\n",
    "## how much cylinders the cars in our dataset have?"
   ]
  },
  {
   "cell_type": "code",
   "execution_count": null,
   "metadata": {
    "collapsed": false
   },
   "outputs": [],
   "source": [
    "mpg[0][\"cyl\"]"
   ]
  },
  {
   "cell_type": "code",
   "execution_count": null,
   "metadata": {
    "collapsed": false
   },
   "outputs": [],
   "source": [
    "for car in mpg:\n",
    "    print(car[\"cyl\"])"
   ]
  },
  {
   "cell_type": "code",
   "execution_count": null,
   "metadata": {
    "collapsed": true
   },
   "outputs": [],
   "source": [
    "x=list()\n",
    "for car in mpg:\n",
    "    x.append(car[\"cyl\"])"
   ]
  },
  {
   "cell_type": "code",
   "execution_count": null,
   "metadata": {
    "collapsed": false
   },
   "outputs": [],
   "source": [
    "len(x)"
   ]
  },
  {
   "cell_type": "code",
   "execution_count": null,
   "metadata": {
    "collapsed": false
   },
   "outputs": [],
   "source": [
    "x=set()\n",
    "for car in mpg:\n",
    "    x.add(car[\"cyl\"])\n",
    "len(x)\n"
   ]
  },
  {
   "cell_type": "code",
   "execution_count": null,
   "metadata": {
    "collapsed": false
   },
   "outputs": [],
   "source": [
    "# itemes are str conver to int. why:\n",
    "\n",
    "print(\"x= \", x)\n",
    "print(\"type(x)= \", type(x))\n",
    "print(\"max(x)= \", max(x))\n",
    "print(\"min(x)= \", min(x))\n",
    "\n"
   ]
  },
  {
   "cell_type": "code",
   "execution_count": null,
   "metadata": {
    "collapsed": false
   },
   "outputs": [],
   "source": [
    "x=set()\n",
    "for car in mpg:\n",
    "    x.add(int(car[\"cyl\"]))\n",
    "len(x)"
   ]
  },
  {
   "cell_type": "code",
   "execution_count": null,
   "metadata": {
    "collapsed": false
   },
   "outputs": [],
   "source": [
    "print(\"type(x)= \", type(x))\n",
    "print(\"max(x)= \", max(x))\n",
    "print(\"min(x)= \", min(x))\n"
   ]
  },
  {
   "cell_type": "markdown",
   "metadata": {},
   "source": [
    "<br><br><br><br>\n",
    "## if we grouping the cars by number of cylinder, how much are the average cty mpg for each group?"
   ]
  },
  {
   "cell_type": "code",
   "execution_count": 15,
   "metadata": {
    "collapsed": false
   },
   "outputs": [
    {
     "name": "stdout",
     "output_type": "stream",
     "text": [
      "0\n",
      "1\n",
      "{1: 0, 2: 1, 3: 0}\n"
     ]
    }
   ],
   "source": [
    "x=[1,2,3]\n",
    "y={1:0,2:0,3:0}\n",
    "print(y[2])\n",
    "y[2]+=1\n",
    "print(y[2])\n",
    "print(y)"
   ]
  },
  {
   "cell_type": "code",
   "execution_count": 16,
   "metadata": {
    "collapsed": false
   },
   "outputs": [
    {
     "name": "stdout",
     "output_type": "stream",
     "text": [
      "{1: 1, 2: 2, 3: 1}\n"
     ]
    }
   ],
   "source": [
    "for i in x:\n",
    "    y[i]+=1\n",
    "\n",
    "print(y)"
   ]
  },
  {
   "cell_type": "code",
   "execution_count": 17,
   "metadata": {
    "collapsed": false
   },
   "outputs": [
    {
     "name": "stdout",
     "output_type": "stream",
     "text": [
      "{1, 2, 3}\n"
     ]
    }
   ],
   "source": [
    "# dynamic dic\n",
    "x=[1,2,3,1,1,1,2,2,3,3,2]\n",
    "x=set(x)\n",
    "print(x)\n"
   ]
  },
  {
   "cell_type": "code",
   "execution_count": 18,
   "metadata": {
    "collapsed": false
   },
   "outputs": [
    {
     "name": "stdout",
     "output_type": "stream",
     "text": [
      "{1: 0, 2: 0, 3: 0}\n"
     ]
    }
   ],
   "source": [
    "#make dynamic dict\n",
    "y=dict()\n",
    "for number in x:\n",
    "    y.update({number:0})\n",
    "print(y)"
   ]
  },
  {
   "cell_type": "code",
   "execution_count": 19,
   "metadata": {
    "collapsed": false
   },
   "outputs": [
    {
     "name": "stdout",
     "output_type": "stream",
     "text": [
      "{1: 4, 2: 1, 3: 7}\n"
     ]
    }
   ],
   "source": [
    "\n",
    "x=[1,3,2,3,1,3,1,3,1,3,3,3]\n",
    "for i in x:\n",
    "    y[i]+=1\n",
    "print(y)\n"
   ]
  },
  {
   "cell_type": "code",
   "execution_count": null,
   "metadata": {
    "collapsed": false
   },
   "outputs": [],
   "source": [
    "y.update({3:y[3]+10})\n",
    "print(y)"
   ]
  },
  {
   "cell_type": "code",
   "execution_count": 20,
   "metadata": {
    "collapsed": false
   },
   "outputs": [
    {
     "data": {
      "text/plain": [
       "{2, 3, 4, 5, 6, 8, 10, 12, 16}"
      ]
     },
     "execution_count": 20,
     "metadata": {},
     "output_type": "execute_result"
    }
   ],
   "source": [
    "cylinders=set()\n",
    "for car in mpg:\n",
    "    cylinders.add(int(car[\"cyl\"]))\n",
    "    \n",
    "cylinders"
   ]
  },
  {
   "cell_type": "code",
   "execution_count": null,
   "metadata": {
    "collapsed": false
   },
   "outputs": [],
   "source": [
    "cylinders_dict=dict()\n",
    "for number in cylinders:\n",
    "    cylinders_dict.update({number:0})\n",
    "\n",
    "cylinders_dict"
   ]
  },
  {
   "cell_type": "code",
   "execution_count": null,
   "metadata": {
    "collapsed": false
   },
   "outputs": [],
   "source": [
    "#for car in mpg:\n",
    "#    print(car['cty'])\n",
    "\n",
    "#for car in mpg:\n",
    "#    print(car[\"cyl\"])\n",
    "\n",
    "\n",
    "#x=mpg[0][\"cyl\"]\n",
    "#type(x)\n",
    "\n",
    "#cylinders_dict[int(x)]\n",
    "\n",
    "#for obj in mpg:\n",
    "#    print(cylinders_dict[int(obj[\"cyl\"])])\n",
    "\n",
    "\n",
    "\n",
    "for obj in mpg:\n",
    "    try:\n",
    "        cylinders_dict.update({ int(obj[\"cyl\"]) :cylinders_dict[int( obj[\"cyl\"] )]+ int(obj['cty']) })\n",
    "    except:\n",
    "        pass\n",
    "\n",
    "cylinders_dict"
   ]
  },
  {
   "cell_type": "code",
   "execution_count": null,
   "metadata": {
    "collapsed": false
   },
   "outputs": [],
   "source": [
    "#check it\n",
    "plus=0\n",
    "for car in mpg:\n",
    "    if car[\"cyl\"]=='16':\n",
    "        print(car['model'])\n",
    "        plus+= int(car['cty'])\n",
    "print(plus)"
   ]
  },
  {
   "cell_type": "code",
   "execution_count": null,
   "metadata": {
    "collapsed": false
   },
   "outputs": [],
   "source": [
    "#make  cylinders_dict\n",
    "cylinders_dict=dict()\n",
    "for number in cylinders:\n",
    "    cylinders_dict.update({number:[0,0]})\n",
    "cylinders_dict\n"
   ]
  },
  {
   "cell_type": "code",
   "execution_count": null,
   "metadata": {
    "collapsed": false
   },
   "outputs": [],
   "source": [
    "#cylinders_dict[2]\n",
    "#cylinders_dict[2][0]\n",
    "#cylinders_dict[2][0]\n",
    "#type(cylinders_dict)\n",
    "#type(cylinders_dict[2])"
   ]
  },
  {
   "cell_type": "code",
   "execution_count": null,
   "metadata": {
    "collapsed": false
   },
   "outputs": [],
   "source": [
    "cylinders_dict[2][1]+=1\n",
    "cylinders_dict\n"
   ]
  },
  {
   "cell_type": "code",
   "execution_count": null,
   "metadata": {
    "collapsed": false
   },
   "outputs": [],
   "source": [
    "cylinders_dict[2][1]+=cylinders_dict[2][1]\n",
    "cylinders_dict"
   ]
  },
  {
   "cell_type": "code",
   "execution_count": null,
   "metadata": {
    "collapsed": false
   },
   "outputs": [],
   "source": [
    "for obj in mpg:\n",
    "    try:\n",
    "        cylinders_dict[int(obj[\"cyl\"])]\n",
    "    except:\n",
    "        pass"
   ]
  },
  {
   "cell_type": "code",
   "execution_count": null,
   "metadata": {
    "collapsed": false
   },
   "outputs": [],
   "source": [
    "\n",
    "for obj in mpg:\n",
    "    try:\n",
    "        cylinders_dict[int(obj[\"cyl\"])][0] += float(obj[\"cty\"])\n",
    "        cylinders_dict[int(obj[\"cyl\"])][1] += 1\n",
    "    except:\n",
    "        pass\n",
    "    \n",
    "cylinders_dict"
   ]
  },
  {
   "cell_type": "code",
   "execution_count": null,
   "metadata": {
    "collapsed": false
   },
   "outputs": [],
   "source": [
    "for key,value in cylinders_dict.items():\n",
    "    print(\"for cylinders={} , sum of cty={} and number of cars={} \".format(key, *value))"
   ]
  },
  {
   "cell_type": "code",
   "execution_count": null,
   "metadata": {
    "collapsed": false
   },
   "outputs": [],
   "source": [
    "l=list()\n",
    "for item in cylinders_dict.values():\n",
    "    sum_of_cty, number_of_cars = item[0],item[1]\n",
    "    l.append(sum_of_cty/number_of_cars)\n",
    "l"
   ]
  },
  {
   "cell_type": "code",
   "execution_count": null,
   "metadata": {
    "collapsed": false
   },
   "outputs": [],
   "source": [
    "print(\"max= \", max(l), \"min= \",min(l))"
   ]
  },
  {
   "cell_type": "code",
   "execution_count": null,
   "metadata": {
    "collapsed": false
   },
   "outputs": [],
   "source": [
    "x=set()\n",
    "for car in mpg:\n",
    "    if car[\"cyl\"]=='16' or car[\"cyl\"]=='3':\n",
    "        x.add((car[\"model\"],car[\"cyl\"]))\n",
    "x"
   ]
  }
 ],
 "metadata": {
  "anaconda-cloud": {},
  "kernelspec": {
   "display_name": "Python [conda root]",
   "language": "python",
   "name": "conda-root-py"
  },
  "language_info": {
   "codemirror_mode": {
    "name": "ipython",
    "version": 3
   },
   "file_extension": ".py",
   "mimetype": "text/x-python",
   "name": "python",
   "nbconvert_exporter": "python",
   "pygments_lexer": "ipython3",
   "version": "3.5.2"
  }
 },
 "nbformat": 4,
 "nbformat_minor": 1
}
